{
 "cells": [
  {
   "cell_type": "code",
   "execution_count": null,
   "id": "9209cbaa-ab61-4ebd-989c-ec094ed5e372",
   "metadata": {},
   "outputs": [],
   "source": [
    "\"\"\"\n",
    "    Write two independent functions to solve the following problems:\n",
    "     a) count_digits should count the number of digits in an integer,\n",
    "        which will be given as an argument,\n",
    "     b) count_zeros should count the number of integer zeros that will remain\n",
    "        given as an argument.\n",
    "     Examples:\n",
    "     >> x = count_digits(1234)\n",
    "     >> print(x)\n",
    "     4\n",
    "     >> x = count_zeros(1000)\n",
    "     >> print(x)\n",
    "     3\n",
    "     Problems can be solved in a \"mathematical\" way, but also\n",
    "     using Python's simplifications.\n",
    "     Hint: what if the number would be converted to str?\n",
    "\"\"\"\n"
   ]
  },
  {
   "cell_type": "code",
   "execution_count": 131,
   "id": "63f3dcbe-853c-4985-bdd2-ac63d91bae88",
   "metadata": {},
   "outputs": [],
   "source": [
    "# functie de numarat caractere de numere\n",
    "\n",
    "def count_digit(numbers):\n",
    "    return len(str(numbers))\n",
    "\n",
    "# functie de numarat zerouri intr-un numar\n",
    "\n",
    "#var_1\n",
    "def count_zero(numbers):\n",
    "    for zero in str(numbers):\n",
    "        if zero == '0':\n",
    "            return str(numbers).count(zero)\n",
    "        \n",
    "# sau var_2\n",
    "def count_zeros(numbers):\n",
    "    return sum(1 for zero in str(numbers) if zero == '0')"
   ]
  },
  {
   "cell_type": "code",
   "execution_count": 132,
   "id": "994656f7-5e05-4c8d-b06c-6acf3dac68cf",
   "metadata": {},
   "outputs": [],
   "source": [
    "y = 1234456815123545005001200001\n",
    "x = 100200300400500600000"
   ]
  },
  {
   "cell_type": "code",
   "execution_count": 133,
   "id": "a5141a8a-9441-4998-b8d8-b9e57ec5d158",
   "metadata": {},
   "outputs": [
    {
     "data": {
      "text/plain": [
       "21"
      ]
     },
     "execution_count": 133,
     "metadata": {},
     "output_type": "execute_result"
    }
   ],
   "source": [
    "count_digit(x)"
   ]
  },
  {
   "cell_type": "code",
   "execution_count": 134,
   "id": "162ebda3-882d-4101-aab6-9d8f6f9b89ce",
   "metadata": {},
   "outputs": [
    {
     "data": {
      "text/plain": [
       "15"
      ]
     },
     "execution_count": 134,
     "metadata": {},
     "output_type": "execute_result"
    }
   ],
   "source": [
    "count_zero(x)"
   ]
  },
  {
   "cell_type": "code",
   "execution_count": 135,
   "id": "b1471f0c-7b6d-48fe-bffa-a59557f0f01d",
   "metadata": {},
   "outputs": [
    {
     "data": {
      "text/plain": [
       "8"
      ]
     },
     "execution_count": 135,
     "metadata": {},
     "output_type": "execute_result"
    }
   ],
   "source": [
    "count_zeros(y)"
   ]
  },
  {
   "cell_type": "code",
   "execution_count": null,
   "id": "2be24ba3-196b-4dc1-adc2-d838704b829f",
   "metadata": {},
   "outputs": [],
   "source": [
    "\"\"\"\n",
    "    The task is to write a function that counts the number of even numbers in a list of numbers \n",
    "    given as a parameter of the function.\n",
    "     The function is called count_even_number and the input parameter is a list of numbers \n",
    "     called numbers.\n",
    "     Write a solution that will examine the list for even numbers and each time it finds one \n",
    "     it will increase the count of the auxiliary variable.\n",
    "     The function should return the number of even numbers in the given list.\n",
    "     We assume that the list will be given from the program, not by the user, using the input() \n",
    "     function.\n",
    "     \n",
    "     Example:\n",
    "     >> list_of_numbers = [1, 2, 3, 4, 5, 6] -> 3 even numbers: 2, 4, 6\n",
    "     >> x = count_even_numbers (list_of_numbers)\n",
    "     x should be 3.\n",
    "     Note: 0 is an even number.\n",
    "\"\"\""
   ]
  },
  {
   "cell_type": "code",
   "execution_count": 193,
   "id": "ff1ba84c-db1c-4e8a-bc1c-37be799cb120",
   "metadata": {},
   "outputs": [],
   "source": [
    "# functie de numarat numere pare intr-o lista\n",
    "\n",
    "# var_1\n",
    "\n",
    "def count_even_numbers(number):\n",
    "    \n",
    "    even_count = 0\n",
    "    for n in number:\n",
    "        if n % 2 == 0:\n",
    "            even_count = even_count + 1\n",
    "    return even_count\n",
    "\n",
    "# sau var_2\n",
    "\n",
    "def count_even_number(numbers):\n",
    "    return sum(1 for no in numbers if no%2 == 0)\n",
    "\n",
    "# sau var_3\n",
    "\n",
    "def count_even_no(no):\n",
    "    \n",
    "    count_even = 0\n",
    "    for n in no:\n",
    "        if n%2:\n",
    "            continue\n",
    "        count_even +=1\n",
    "    return count_even"
   ]
  },
  {
   "cell_type": "code",
   "execution_count": 194,
   "id": "a7c5b60f-b748-4c98-9063-6fbfa75cd522",
   "metadata": {},
   "outputs": [
    {
     "data": {
      "text/plain": [
       "7"
      ]
     },
     "execution_count": 194,
     "metadata": {},
     "output_type": "execute_result"
    }
   ],
   "source": [
    "lista_mea = [1,1,1,5,4,6,8,7,9,10,12,14,16,165]\n",
    "count_even_number(lista_mea)"
   ]
  },
  {
   "cell_type": "code",
   "execution_count": 195,
   "id": "cfa368b7-d110-4e19-b5ab-bb73121143b0",
   "metadata": {},
   "outputs": [
    {
     "data": {
      "text/plain": [
       "7"
      ]
     },
     "execution_count": 195,
     "metadata": {},
     "output_type": "execute_result"
    }
   ],
   "source": [
    "count_even_numbers(lista_mea)"
   ]
  },
  {
   "cell_type": "code",
   "execution_count": 196,
   "id": "5e94637a-43ec-4d93-bece-b6cebc2776a0",
   "metadata": {},
   "outputs": [
    {
     "data": {
      "text/plain": [
       "7"
      ]
     },
     "execution_count": 196,
     "metadata": {},
     "output_type": "execute_result"
    }
   ],
   "source": [
    "count_even_no(lista_mea)"
   ]
  },
  {
   "cell_type": "code",
   "execution_count": null,
   "id": "f081a3dc-bf5c-4079-a7f6-50cfd005bbfa",
   "metadata": {},
   "outputs": [],
   "source": [
    "\"\"\"\n",
    "    Write a function whose task is to double each character in the string given as an input\n",
    "    parameter.\n",
    "     For example, the value returned from the produce_double_sings function for \"Python\" \n",
    "     should be \"PPyytthhoonn\".\n",
    "     Each letter should be doubled.\n",
    "     We only consider single-word subtitles.\n",
    "\"\"\""
   ]
  },
  {
   "cell_type": "code",
   "execution_count": 285,
   "id": "bbab66a2-42fa-4729-8014-bfaad2129acb",
   "metadata": {},
   "outputs": [],
   "source": [
    "# functie de dublat caractere\n",
    "# var_1\n",
    "def produce_double_sings(letters):\n",
    "    return ''.join(char*2 for char in letters)\n",
    "\n",
    "# var_2\n",
    "def double_sings(letter):\n",
    "    new_sign = ''\n",
    "    for sign in letter:\n",
    "        new_sign += sign\n",
    "        new_sign += sign\n",
    "    return new_sign"
   ]
  },
  {
   "cell_type": "code",
   "execution_count": 286,
   "id": "473497aa-c09b-476f-b4f4-a47ee8be8667",
   "metadata": {},
   "outputs": [
    {
     "data": {
      "text/plain": [
       "'ppyytthhoonn  aanndd  ppyy'"
      ]
     },
     "execution_count": 286,
     "metadata": {},
     "output_type": "execute_result"
    }
   ],
   "source": [
    "sir = 'python and py'\n",
    "produce_double_sings(sir)"
   ]
  },
  {
   "cell_type": "code",
   "execution_count": 287,
   "id": "a60960d6-7dbf-4412-b5a9-c31ad7d25ecb",
   "metadata": {},
   "outputs": [
    {
     "data": {
      "text/plain": [
       "'ppyytthhoonn  aanndd  ppyy'"
      ]
     },
     "execution_count": 287,
     "metadata": {},
     "output_type": "execute_result"
    }
   ],
   "source": [
    "double_sings(sir)"
   ]
  },
  {
   "cell_type": "code",
   "execution_count": null,
   "id": "40ff8e4e-f26f-4a5d-8b28-513fcf549ef9",
   "metadata": {},
   "outputs": [],
   "source": [
    "\"\"\"\n",
    "    Write a function that, based on the given dictionary with purchases as keys and a tuple\n",
    "    with price and tax as a value, will calculate the gross amount of all purchases.\n",
    "     The grocery_list parameter can take the form:\n",
    "     {\"milk\": (5.00, 10), \"cheese\": (4.50, 15), \"yogurt\": (3, 25)}.\n",
    "     The first value in a tuple is the net price, the second is the tax (e.g. for 10%\n",
    "     tax of a given product and its gross price 10, the gross price will be\n",
    "     was 1.1 * 10). You should add up gross prices for each product\n",
    "     and return the result.\n",
    "     It should be assumed that the user will not provide erroneous values (i.e. that the price\n",
    "     will never be negative, and the tax will always be included in the set <0; 100>.\n",
    "\"\"\""
   ]
  },
  {
   "cell_type": "code",
   "execution_count": 305,
   "id": "7eb3704c-3ec2-4945-ae49-bef4abf32d79",
   "metadata": {},
   "outputs": [],
   "source": [
    "def gross_amount_calculate(grocery_list):\n",
    "    return sum(price+price*tax*0.01 for price, tax in grocery_list.values())"
   ]
  },
  {
   "cell_type": "code",
   "execution_count": 306,
   "id": "cde376c0-31e9-45a2-9f47-9fda809849af",
   "metadata": {},
   "outputs": [
    {
     "data": {
      "text/plain": [
       "18.509999999999998"
      ]
     },
     "execution_count": 306,
     "metadata": {},
     "output_type": "execute_result"
    }
   ],
   "source": [
    "lista_cumparaturi = {'lapte': (5, 5), 'cafea':(10, 2), 'paine':(3, 2)}\n",
    "gross_amount_calculate(lista_cumparaturi)"
   ]
  },
  {
   "cell_type": "code",
   "execution_count": 312,
   "id": "6279b36c-b7d0-4e04-a551-296f2246511c",
   "metadata": {},
   "outputs": [],
   "source": [
    "def gross_amount(grocery_l):\n",
    "    gross_price = 0\n",
    "    for product in grocery_l.keys():\n",
    "        gross_price += grocery_l[product][0] + (grocery_l[product][0]*grocery_l[product][1]*0.01)\n",
    "    return gross_price"
   ]
  },
  {
   "cell_type": "code",
   "execution_count": 315,
   "id": "21fb428a-7246-464a-acbe-b5c2bc6aa19e",
   "metadata": {},
   "outputs": [
    {
     "data": {
      "text/plain": [
       "18.509999999999998"
      ]
     },
     "execution_count": 315,
     "metadata": {},
     "output_type": "execute_result"
    }
   ],
   "source": [
    "lista_cumparaturi = {'lapte': (5, 5), 'cafea':(10, 2), 'paine':(3, 2)}\n",
    "gross_amount(lista_cumparaturi)"
   ]
  },
  {
   "cell_type": "code",
   "execution_count": 1,
   "id": "472d22c2-7485-481c-92a6-c1344d0ae638",
   "metadata": {},
   "outputs": [
    {
     "data": {
      "text/plain": [
       "'\\n    Write a simple \"encryption\" function. Its job is to switch\\n     every third character in the password with an asterisk (*).\\n     Example:\\n     >> x = hide_password (\"my_hidden_password_123\")\\n     >> print (x)\\n     \"my*hi*de*_p*ss*or*_1*3\"\\n     Remember that the length of the string does not have to be divisible by 3.\\n'"
      ]
     },
     "execution_count": 1,
     "metadata": {},
     "output_type": "execute_result"
    }
   ],
   "source": [
    "\"\"\"\n",
    "    Write a simple \"encryption\" function. Its job is to switch\n",
    "     every third character in the password with an asterisk (*).\n",
    "     Example:\n",
    "     >> x = hide_password (\"my_hidden_password_123\")\n",
    "     >> print (x)\n",
    "     \"my*hi*de*_p*ss*or*_1*3\"\n",
    "     Remember that the length of the string does not have to be divisible by 3.\n",
    "\"\"\""
   ]
  },
  {
   "cell_type": "code",
   "execution_count": 19,
   "id": "51ab17de-a133-4b44-9254-0b6f1afe9e02",
   "metadata": {},
   "outputs": [],
   "source": [
    "def hide_password(my_password):\n",
    "    \n",
    "    letters = list(my_password)\n",
    "    \n",
    "    for index, letter in enumerate(letters):\n",
    "        \n",
    "        if index > 1 and (index + 1) % 3 == 0:\n",
    "            \n",
    "            letters[index] = '*'\n",
    "            \n",
    "    return ''.join(letters)"
   ]
  },
  {
   "cell_type": "code",
   "execution_count": 20,
   "id": "bb650240-beb7-4df4-a398-7fe96951172a",
   "metadata": {},
   "outputs": [
    {
     "data": {
      "text/plain": [
       "'10*34*0d*df*df*s'"
      ]
     },
     "execution_count": 20,
     "metadata": {},
     "output_type": "execute_result"
    }
   ],
   "source": [
    "my_pass = '1023450dsdfsdf2s'\n",
    "hide_password(my_pass)"
   ]
  },
  {
   "cell_type": "code",
   "execution_count": 375,
   "id": "ff1d9652-d03f-4557-a9c2-e52e1c751c12",
   "metadata": {},
   "outputs": [],
   "source": [
    "#dir(my_pass)"
   ]
  },
  {
   "cell_type": "code",
   "execution_count": null,
   "id": "6c1aff96-b001-4095-afc8-9828b856a262",
   "metadata": {},
   "outputs": [],
   "source": [
    "\"\"\"\n",
    "    Write a function that joins two strings like this:\n",
    "     first - the first letter of the first string, then the first letter of the second, second\n",
    "     letter of the second, etc ...\n",
    "     The function should return a new string which is a combination of those given as parameters. \n",
    "     Note: the input strings need not be the same length!\n",
    "     \n",
    "     Example:\n",
    "     >> merge_strings (\"dog\", \"cat\")\n",
    "     dcoagt\n",
    "     >> merge_strings (\"stop\", \"supermarket)\n",
    "     sstuoopermarket\n",
    "     If any string is longer, simply rewrite it, similar to the example shown in the \n",
    "     second example.\n",
    "\"\"\"\n"
   ]
  },
  {
   "cell_type": "code",
   "execution_count": 95,
   "id": "589edd1d-2964-4d42-935f-6d0106cb74a6",
   "metadata": {},
   "outputs": [],
   "source": [
    "def merge_strings(str_1, str_2):\n",
    "    \n",
    "    new_str = ''\n",
    "    end_of_str = ''\n",
    "    common_lenght = len(str_1)\n",
    "    if len(str_1) > len(str_2):\n",
    "        end_of_str = str_1[len(str_2):]\n",
    "        common_lenght = len(str_2)\n",
    "        \n",
    "    elif len(str_1) < len(str_2):\n",
    "        end_of_str = str_2[len(str_1):]\n",
    "    \n",
    "    for i in range(common_lenght):\n",
    "        new_str += str_1[i] + str_2[i]   \n",
    "\n",
    "    return new_str + end_of_str, common_lenght"
   ]
  },
  {
   "cell_type": "code",
   "execution_count": 96,
   "id": "fe2f7d67-f6b3-4f56-864c-6a59e3331820",
   "metadata": {},
   "outputs": [
    {
     "data": {
      "text/plain": [
       "('cgaetaamlaunntiaanintren', 9)"
      ]
     },
     "execution_count": 96,
     "metadata": {},
     "output_type": "execute_result"
    }
   ],
   "source": [
    "sir1 = 'cataluniaintren'\n",
    "sir2 = 'geamantan'\n",
    "merge_strings ('cataluniaintren','geamantan')"
   ]
  },
  {
   "cell_type": "code",
   "execution_count": null,
   "id": "a51c9876-431d-4726-807f-0e6279ef8d42",
   "metadata": {},
   "outputs": [],
   "source": [
    "\"\"\"\n",
    "    Write a function to check if the string given as an argument to is a palindrome.\n",
    "    A palindrome is a string that is read from left to right in the same way as it is \n",
    "    read from right to left, such as \"level\".\n",
    "    For ease of use, assume that the input string will always be one word.\n",
    "    We assume that the empty string is a palindrome.\n",
    "\"\"\""
   ]
  },
  {
   "cell_type": "code",
   "execution_count": 99,
   "id": "0a5a08e5-6072-419d-abb2-b659e4330a05",
   "metadata": {},
   "outputs": [],
   "source": [
    "def is_palindrom(string):\n",
    "    return string == string[::-1]"
   ]
  },
  {
   "cell_type": "code",
   "execution_count": 102,
   "id": "6b0ad932-f915-427d-a59c-8255c02e7840",
   "metadata": {},
   "outputs": [
    {
     "data": {
      "text/plain": [
       "True"
      ]
     },
     "execution_count": 102,
     "metadata": {},
     "output_type": "execute_result"
    }
   ],
   "source": [
    "word = 'level'\n",
    "is_palindrom(word)"
   ]
  },
  {
   "cell_type": "code",
   "execution_count": 108,
   "id": "31b9eb76-6d52-4dd9-a553-6d80bc90ddd7",
   "metadata": {},
   "outputs": [
    {
     "data": {
      "text/plain": [
       "'\\n    Write a function that states whether the given number is a prime number or not.\\n    A number is prime when it is divided only by itself and by 1. One of the prime \\n    number search algorithms is to check that none of the numbers from 2 to NUM-1 \\n    (or from 2 to the root of NUMBER) divides the number being tested. Note: 0 and 1 \\n    are neither prime numbers nor composite numbers.\\n'"
      ]
     },
     "execution_count": 108,
     "metadata": {},
     "output_type": "execute_result"
    }
   ],
   "source": [
    "\"\"\"\n",
    "    Write a function that states whether the given number is a prime number or not.\n",
    "    A number is prime when it is divided only by itself and by 1. One of the prime \n",
    "    number search algorithms is to check that none of the numbers from 2 to NUM-1 \n",
    "    (or from 2 to the root of NUMBER) divides the number being tested. Note: 0 and 1 \n",
    "    are neither prime numbers nor composite numbers.\n",
    "\"\"\""
   ]
  },
  {
   "cell_type": "code",
   "execution_count": 3,
   "id": "a89dc7df-c902-4334-82a1-5d741eabde32",
   "metadata": {},
   "outputs": [
    {
     "name": "stdin",
     "output_type": "stream",
     "text": [
      "Enter a random number:  0\n"
     ]
    },
    {
     "name": "stdout",
     "output_type": "stream",
     "text": [
      "0 is not a prime number\n"
     ]
    },
    {
     "name": "stdin",
     "output_type": "stream",
     "text": [
      "Do you ant tot continue ([y]/[n])?  y\n",
      "Enter a random number:  1\n"
     ]
    },
    {
     "name": "stdout",
     "output_type": "stream",
     "text": [
      "1 is not a prime number\n"
     ]
    },
    {
     "name": "stdin",
     "output_type": "stream",
     "text": [
      "Do you ant tot continue ([y]/[n])?  y\n",
      "Enter a random number:  2\n"
     ]
    },
    {
     "name": "stdout",
     "output_type": "stream",
     "text": [
      "2 is a prime number\n"
     ]
    },
    {
     "name": "stdin",
     "output_type": "stream",
     "text": [
      "Do you ant tot continue ([y]/[n])?  y\n",
      "Enter a random number:  3\n"
     ]
    },
    {
     "name": "stdout",
     "output_type": "stream",
     "text": [
      "3 is a prime number\n"
     ]
    },
    {
     "name": "stdin",
     "output_type": "stream",
     "text": [
      "Do you ant tot continue ([y]/[n])?  y\n",
      "Enter a random number:  4\n"
     ]
    },
    {
     "name": "stdout",
     "output_type": "stream",
     "text": [
      "4 is not a prime number\n"
     ]
    },
    {
     "name": "stdin",
     "output_type": "stream",
     "text": [
      "Do you ant tot continue ([y]/[n])?  y\n",
      "Enter a random number:  5\n"
     ]
    },
    {
     "name": "stdout",
     "output_type": "stream",
     "text": [
      "5 is a prime number\n"
     ]
    },
    {
     "name": "stdin",
     "output_type": "stream",
     "text": [
      "Do you ant tot continue ([y]/[n])?  n\n"
     ]
    }
   ],
   "source": [
    "from math import sqrt\n",
    "\n",
    "def prime_number(numbers):\n",
    "    if numbers in (0,1):\n",
    "        return False\n",
    "    for i in range(2, int(sqrt(numbers))+1):\n",
    "        if numbers % i == 0:\n",
    "            return False\n",
    "    return True\n",
    "                   \n",
    "if __name__=='__main__':\n",
    "    while True:\n",
    "        input_no = int(input('Enter a random number: '))\n",
    "        answer = 'is' if prime_number(input_no) else 'is not'\n",
    "        print(f'{input_no} {answer} a prime number') \n",
    "        shall_continue = input('Do you ant tot continue ([y]/[n])? ')\n",
    "        if shall_continue.lower() != 'y':\n",
    "            break\n",
    "        \n",
    "                   "
   ]
  },
  {
   "cell_type": "code",
   "execution_count": 120,
   "id": "b258b270-1ee1-4d30-a7ac-ac03f3ee0872",
   "metadata": {},
   "outputs": [
    {
     "name": "stdout",
     "output_type": "stream",
     "text": [
      "5\n",
      "6\n",
      "7\n",
      "8\n",
      "9\n",
      "10\n"
     ]
    }
   ],
   "source": [
    "for n in range(5, 10+1):\n",
    "    print(n)"
   ]
  },
  {
   "cell_type": "code",
   "execution_count": null,
   "id": "7a29e80b-bb79-4061-8d27-2639b5e8bce8",
   "metadata": {},
   "outputs": [],
   "source": [
    "\"\"\"\n",
    "    Write a function that takes two sets (sets) as parameters and finds numbers \n",
    "    that are in both.\n",
    "     The function should return a set of common numbers. If no number repeats, \n",
    "     the function should return an empty set.\n",
    "     Note: in Python, an empty set (set) is declared like this:\n",
    "     >> empty = set()\n",
    "     and not like this:\n",
    "     >> empty = {} # this is how a dictionary is declared.\n",
    "     The task should be performed in a different way than by using the syntax:\n",
    "     >> set1 & set2\n",
    "     which in short establishes the common part of both sets.\n",
    "\"\"\""
   ]
  },
  {
   "cell_type": "code",
   "execution_count": 65,
   "id": "1ea1c499-ad7e-4578-8957-80b4f90a2fe6",
   "metadata": {},
   "outputs": [],
   "source": [
    "def find_numbers(set1, set2):\n",
    "    common_set = set()\n",
    "    for n in set1:\n",
    "        if n in set2:\n",
    "            common_set.add(n)\n",
    "    return common_set"
   ]
  },
  {
   "cell_type": "code",
   "execution_count": 66,
   "id": "2651a55e-5d78-4ec2-8e19-f9cd4c47825f",
   "metadata": {},
   "outputs": [
    {
     "data": {
      "text/plain": [
       "set()"
      ]
     },
     "execution_count": 66,
     "metadata": {},
     "output_type": "execute_result"
    }
   ],
   "source": [
    "x = '12345'\n",
    "y = '6789'\n",
    "find_numbers(x,y)"
   ]
  },
  {
   "cell_type": "code",
   "execution_count": 57,
   "id": "f9902d50-7efc-4bd7-89a2-c4ddbf1e57c7",
   "metadata": {},
   "outputs": [],
   "source": [
    "def find_common_numbers(set1, set2):\n",
    "    \"\"\"Finds common numbers from a group of sets.\n",
    "\n",
    "     :param set1: the first number set.\n",
    "     :param set2: the second number set.\n",
    "     :return: a new set having numbers that match both\n",
    "         set1 and set2.\n",
    "\n",
    "    \"\"\"\n",
    "    commons = set()\n",
    "\n",
    "    for number in set1:\n",
    "        if number in set2:\n",
    "            commons.add(number)\n",
    "\n",
    "    return commons"
   ]
  },
  {
   "cell_type": "code",
   "execution_count": 58,
   "id": "0056b13f-0f2d-4aef-8d30-6ccc372fe2d5",
   "metadata": {},
   "outputs": [
    {
     "data": {
      "text/plain": [
       "{'1', '2', '3', '4', '5', '6', '7', '8', '9'}"
      ]
     },
     "execution_count": 58,
     "metadata": {},
     "output_type": "execute_result"
    }
   ],
   "source": [
    "x = '123456789'\n",
    "y = '123456789'\n",
    "find_common_numbers(x,y)"
   ]
  },
  {
   "cell_type": "code",
   "execution_count": null,
   "id": "457393e7-77e9-4a08-896f-602683e276f7",
   "metadata": {},
   "outputs": [],
   "source": [
    "\"\"\"\n",
    "    Create a simple war card game simulator.\n",
    "     Your function is responsible for deciding which card will win. Parameters are the\n",
    "     characters card1 and card2.\n",
    "     They can take the following values:\n",
    "     <\"1\", \"2\", \"3\", ..., \"10\", \"J\", \"D\", \"K\", \"A\"> - the size of the letters will have \n",
    "     a meaning (although you can provide a solution in which it will not).\n",
    "     The function should return the number 1 if player 1 wins, 2 - if player 2 wins, \n",
    "     or 0 if the cards are the same.\n",
    "     \n",
    "     Examples:\n",
    "    >> determine_the_winner(\"5\", \"2\")\n",
    "    1\n",
    "    >> determine_the_winner(\"D\", \"A\")\n",
    "    2\n",
    "    >> determine_the_winner(\"K\", \"8\")\n",
    "    1\n",
    "    >> determine_the_winner(\"4\", \"4\")\n",
    "    0\n",
    "\"\"\""
   ]
  },
  {
   "cell_type": "code",
   "execution_count": 82,
   "id": "33c9b06f-edeb-468a-a195-68322182c111",
   "metadata": {},
   "outputs": [],
   "source": [
    "card_games = {'1':1, '2':2, '3':3, '4':4, '5':5, '6':6, '7':7,\n",
    "              '8':8, '9':9, '10':10, 'J':11, 'D':12, 'K':13, 'A':14}\n",
    "def determine_the_winner(card1, card2):\n",
    "    result = 0\n",
    "    if card_games[card1] > card_games[card2]:\n",
    "        result = 1\n",
    "    elif card_games[card1] < card_games[card2]:\n",
    "        result = 2\n",
    "    return result"
   ]
  },
  {
   "cell_type": "code",
   "execution_count": 84,
   "id": "76bc402a-d2f2-4f04-99fa-0d4377821664",
   "metadata": {},
   "outputs": [
    {
     "data": {
      "text/plain": [
       "2"
      ]
     },
     "execution_count": 84,
     "metadata": {},
     "output_type": "execute_result"
    }
   ],
   "source": [
    "determine_the_winner('8', 'A')"
   ]
  },
  {
   "cell_type": "code",
   "execution_count": null,
   "id": "ba26854d-9622-466a-b70b-af96238a04fa",
   "metadata": {},
   "outputs": [],
   "source": []
  },
  {
   "cell_type": "code",
   "execution_count": null,
   "id": "2fe2c009-ec80-45c8-90f2-28db4c148648",
   "metadata": {},
   "outputs": [],
   "source": []
  },
  {
   "cell_type": "code",
   "execution_count": null,
   "id": "6452b019-7fe7-4460-b8f6-c4cbc5d0026c",
   "metadata": {},
   "outputs": [],
   "source": []
  },
  {
   "cell_type": "code",
   "execution_count": null,
   "id": "9c0f0f07-47da-4075-8579-d6ec045df92c",
   "metadata": {},
   "outputs": [],
   "source": []
  },
  {
   "cell_type": "code",
   "execution_count": null,
   "id": "36b1170e-7e16-4dd9-be78-4a14cc02bea2",
   "metadata": {},
   "outputs": [],
   "source": [
    "def anagram(word_1, word_2):\n",
    "    word_1 = sorted(word_1.lower().replace(\" \", \"\"))\n",
    "    word_2 = sorted(word_2.lower().replace(\" \",\"\"))\n",
    "    return word_1 == word_2\n",
    "if __name__=='__main__':\n",
    "    while True:\n",
    "        input_word_1 = input('Enter first word: ').strip()\n",
    "        input_word_2 = input('Enter second word: ').strip()\n",
    "        answer = 'are anagrams' if anagram(input_word_1, input_word_2) else 'are not anagrams'\n",
    "        print(f'Words {input_word_1} and {input_word_2} {answer}')\n",
    "        shall_continue = input(f'Do you want to continue ([y]/[n])? ')\n",
    "        if shall_continue != 'y':\n",
    "            break"
   ]
  },
  {
   "cell_type": "code",
   "execution_count": null,
   "id": "34a0d9ed-12c5-4273-9f97-828e89f0f5df",
   "metadata": {},
   "outputs": [],
   "source": []
  },
  {
   "cell_type": "code",
   "execution_count": null,
   "id": "dca7c8df-9cda-4bbd-a957-94ffacbd8359",
   "metadata": {},
   "outputs": [],
   "source": []
  }
 ],
 "metadata": {
  "kernelspec": {
   "display_name": "curs_python_env",
   "language": "python",
   "name": "curs_python_env"
  },
  "language_info": {
   "codemirror_mode": {
    "name": "ipython",
    "version": 3
   },
   "file_extension": ".py",
   "mimetype": "text/x-python",
   "name": "python",
   "nbconvert_exporter": "python",
   "pygments_lexer": "ipython3",
   "version": "3.10.5"
  }
 },
 "nbformat": 4,
 "nbformat_minor": 5
}
