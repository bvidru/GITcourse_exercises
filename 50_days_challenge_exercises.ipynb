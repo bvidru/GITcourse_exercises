{
 "cells": [
  {
   "cell_type": "markdown",
   "id": "8346f8a3-8974-4b69-a7c3-ccb731e5f26f",
   "metadata": {},
   "source": [
    "Day 1 challenge"
   ]
  },
  {
   "cell_type": "raw",
   "id": "df9b652f-914e-4f3e-a632-724a9216306a",
   "metadata": {},
   "source": [
    "Write a function called divide_or_square that takes one\n",
    "argument (a number), and returns the square root of the number\n",
    "if it is divisible by 5, returns its remainder if it is not divisible by\n",
    "5. For example, if you pass 10 as an argument, then your function\n",
    "should return 3.16 as the square root."
   ]
  },
  {
   "cell_type": "code",
   "execution_count": 5,
   "id": "941e7a67-009f-403d-8889-07f5ffbf8ec8",
   "metadata": {},
   "outputs": [],
   "source": [
    "import math"
   ]
  },
  {
   "cell_type": "code",
   "execution_count": 16,
   "id": "424cb6f4-8a97-40f8-94ac-81209c64c267",
   "metadata": {},
   "outputs": [
    {
     "name": "stdin",
     "output_type": "stream",
     "text": [
      "Enter a number:  10\n"
     ]
    },
    {
     "name": "stdout",
     "output_type": "stream",
     "text": [
      "3.1622776601683795\n"
     ]
    },
    {
     "name": "stdin",
     "output_type": "stream",
     "text": [
      "Do you want to continue [y/n]?  y\n",
      "Enter a number:  9\n"
     ]
    },
    {
     "name": "stdout",
     "output_type": "stream",
     "text": [
      "4\n"
     ]
    },
    {
     "name": "stdin",
     "output_type": "stream",
     "text": [
      "Do you want to continue [y/n]?  y\n",
      "Enter a number:  20\n"
     ]
    },
    {
     "name": "stdout",
     "output_type": "stream",
     "text": [
      "4.47213595499958\n"
     ]
    },
    {
     "name": "stdin",
     "output_type": "stream",
     "text": [
      "Do you want to continue [y/n]?  y\n",
      "Enter a number:  25\n"
     ]
    },
    {
     "name": "stdout",
     "output_type": "stream",
     "text": [
      "5.0\n"
     ]
    },
    {
     "name": "stdin",
     "output_type": "stream",
     "text": [
      "Do you want to continue [y/n]?  y\n",
      "Enter a number:  24\n"
     ]
    },
    {
     "name": "stdout",
     "output_type": "stream",
     "text": [
      "4\n"
     ]
    },
    {
     "name": "stdin",
     "output_type": "stream",
     "text": [
      "Do you want to continue [y/n]?  n\n"
     ]
    }
   ],
   "source": [
    "def devide_or_square(no):\n",
    "    if no%5 == 0:\n",
    "        return math.sqrt(no)\n",
    "    else:\n",
    "        return no%5\n",
    "    \n",
    "if __name__ == '__main__':\n",
    "    while True:\n",
    "        n = int(input('Enter a number: '))\n",
    "        answer = print(devide_or_square(n))\n",
    "        shall_continue = input('Do you want to continue [y/n]? ')\n",
    "        if shall_continue.lower() != 'y':\n",
    "            break"
   ]
  },
  {
   "cell_type": "raw",
   "id": "0d0192df-a9f3-4e5c-a375-18d8e128e1e0",
   "metadata": {},
   "source": [
    "Write a function called longest_value that takes a dictionary\n",
    "as an argument and returns the first longest value of the\n",
    "dictionary. For example, the following dictionary should return\n",
    "– apple as the longest value.\n",
    "fruits = {'fruit': 'apple', 'color': 'green'}"
   ]
  },
  {
   "cell_type": "code",
   "execution_count": 25,
   "id": "63553c68-b407-44ac-9c88-0159287bbbc8",
   "metadata": {},
   "outputs": [],
   "source": [
    "def longest_value(àny_dictionary):\n",
    "    dictionary = 0\n",
    "    for v in àny_dictionary.values():\n",
    "        if len(v)>dictionary:\n",
    "            dictionary = len(v)\n",
    "    print(max(àny_dictionary.values(), key = len))"
   ]
  },
  {
   "cell_type": "code",
   "execution_count": 30,
   "id": "f16659b2-43fc-4e0a-b150-a5ec76d8f1b5",
   "metadata": {},
   "outputs": [],
   "source": [
    "dictionar = {'fructe': 'caise', 'legume': 'ardei', 'panificatie': 'paine'}"
   ]
  },
  {
   "cell_type": "code",
   "execution_count": 31,
   "id": "ca3368ab-41f4-4041-81b5-812fbfe46bdb",
   "metadata": {},
   "outputs": [
    {
     "name": "stdout",
     "output_type": "stream",
     "text": [
      "caise\n"
     ]
    }
   ],
   "source": [
    "longest_value(dictionar)"
   ]
  },
  {
   "cell_type": "markdown",
   "id": "6e6880a7-a033-465c-b02d-9dd86679a1f1",
   "metadata": {},
   "source": [
    "Day 2 challenge"
   ]
  },
  {
   "cell_type": "raw",
   "id": "bd0926a4-981e-46a2-a899-5eadf0ac43db",
   "metadata": {},
   "source": [
    "Write a function called convert_add that takes a list of strings\n",
    "as an argument and converts it to integers and sums the list. For\n",
    "example [‘1’, ‘3’, ‘5’] should be converted to [1, 3, 5] and\n",
    "summed to 9."
   ]
  },
  {
   "cell_type": "code",
   "execution_count": 182,
   "id": "d8868758-aee4-4b8e-bee5-f35820adf9ed",
   "metadata": {},
   "outputs": [],
   "source": [
    "lista = []\n",
    "def convert_add(lista):\n",
    "    lista = [int(n) for n in lista]\n",
    "    return lista, sum(lista)"
   ]
  },
  {
   "cell_type": "code",
   "execution_count": 183,
   "id": "65d9138c-f93a-4580-9bc1-73dd06bcc78d",
   "metadata": {},
   "outputs": [],
   "source": [
    "lista_2 = ['2', '3', '4', '5', '5']"
   ]
  },
  {
   "cell_type": "code",
   "execution_count": 184,
   "id": "b7d281dc-b28e-424f-a521-376da642b1c3",
   "metadata": {},
   "outputs": [
    {
     "data": {
      "text/plain": [
       "([2, 3, 4, 5, 5], 19)"
      ]
     },
     "execution_count": 184,
     "metadata": {},
     "output_type": "execute_result"
    }
   ],
   "source": [
    "convert_add(lista_2)"
   ]
  },
  {
   "cell_type": "raw",
   "id": "c9a78eb8-a96b-4207-ae12-f1170109a4e9",
   "metadata": {},
   "source": [
    "Write a function called check_duplicates that takes a list of\n",
    "strings as an argument. The function should check if the list has\n",
    "any duplicates. If there are duplicates, the function should return\n",
    "the duplicates. If there are no duplicates, the function should\n",
    "return \"No duplicates\". For example, the list of fruits below\n",
    "should return apple as a duplicate and list of names should\n",
    "return \"no duplicates\".\n",
    "fruits = ['apple', 'orange', 'banana', 'apple']\n",
    "names = ['Yoda', 'Moses', 'Joshua', 'Mark']"
   ]
  },
  {
   "cell_type": "code",
   "execution_count": 185,
   "id": "16c2760e-60d7-4d10-9232-58425e19234b",
   "metadata": {},
   "outputs": [],
   "source": [
    "def check_duplicates(a_list):\n",
    "    for element in a_list:\n",
    "        if a_list.count(element) > 1:\n",
    "            return element\n",
    "    return print ('No duplicates')    "
   ]
  },
  {
   "cell_type": "code",
   "execution_count": 186,
   "id": "df0292e9-9eaf-412a-8752-69eaf8dc6357",
   "metadata": {},
   "outputs": [
    {
     "data": {
      "text/plain": [
       "'apple'"
      ]
     },
     "execution_count": 186,
     "metadata": {},
     "output_type": "execute_result"
    }
   ],
   "source": [
    "fruits = ['apple', 'orange', 'banana', 'apple']\n",
    "result = check_duplicates(fruits)\n",
    "result"
   ]
  },
  {
   "cell_type": "code",
   "execution_count": 189,
   "id": "f39318bb-9f09-4971-9602-cefa022d02d5",
   "metadata": {},
   "outputs": [
    {
     "name": "stdout",
     "output_type": "stream",
     "text": [
      "No duplicates\n"
     ]
    }
   ],
   "source": [
    "names = ['Yoda', 'Moses', 'Joshua', 'Mark']\n",
    "result = check_duplicates(names)\n",
    "result"
   ]
  },
  {
   "cell_type": "markdown",
   "id": "1cb444a8-be3b-4985-9a08-d75579c6cfa0",
   "metadata": {
    "tags": []
   },
   "source": [
    "Day 3 challenge"
   ]
  },
  {
   "cell_type": "raw",
   "id": "25edad6f-9940-447c-a255-d76bf23f4cf0",
   "metadata": {},
   "source": [
    "Write a function called register_check that checks how many\n",
    "students are in school. The function takes a dictionary as a\n",
    "parameter. If the student is in school, the dictionary says ‘yes’. If\n",
    "the student is not in school, the dictionary says ‘no’. Your\n",
    "function should return the number of students in school. Use the\n",
    "dictionary below. Your function should return 3."
   ]
  },
  {
   "cell_type": "code",
   "execution_count": 293,
   "id": "5ac44c20-a6ed-47e7-89c5-d246646d451e",
   "metadata": {},
   "outputs": [],
   "source": [
    "register = {'Michael':'yes','John': 'no',\n",
    "            'Peter':'yes', 'Mary': 'yes'}"
   ]
  },
  {
   "cell_type": "code",
   "execution_count": 294,
   "id": "6c1f4c32-554c-47cf-951a-4ade80299e9a",
   "metadata": {},
   "outputs": [],
   "source": [
    "#dir(register)"
   ]
  },
  {
   "cell_type": "code",
   "execution_count": 295,
   "id": "d6664d51-6bb4-436a-aa0f-955df1613d94",
   "metadata": {},
   "outputs": [
    {
     "data": {
      "text/plain": [
       "'yes'"
      ]
     },
     "execution_count": 295,
     "metadata": {},
     "output_type": "execute_result"
    }
   ],
   "source": [
    "register.__getitem__('Michael')"
   ]
  },
  {
   "cell_type": "code",
   "execution_count": null,
   "id": "a0b7e68e-3b2a-47fa-86ac-49eb003e1cbe",
   "metadata": {},
   "outputs": [],
   "source": []
  },
  {
   "cell_type": "code",
   "execution_count": 296,
   "id": "60b46376-8cc0-4f40-a5ff-cf98abd2b2e3",
   "metadata": {},
   "outputs": [],
   "source": [
    "def register_check(dictionar):\n",
    "    dictionary = {k:v for k,v in dictionar.items() if v == 'yes'}\n",
    "    return len(dictionary.keys())"
   ]
  },
  {
   "cell_type": "code",
   "execution_count": 297,
   "id": "b63eda5f-5c24-4b07-b233-f0b7c6ea9020",
   "metadata": {},
   "outputs": [
    {
     "data": {
      "text/plain": [
       "3"
      ]
     },
     "execution_count": 297,
     "metadata": {},
     "output_type": "execute_result"
    }
   ],
   "source": [
    "register_check(register)"
   ]
  },
  {
   "cell_type": "code",
   "execution_count": 298,
   "id": "7c8ecbfe-10c0-48e4-9e6c-7eff4af1659d",
   "metadata": {},
   "outputs": [],
   "source": [
    "# sau mai poate fi facuta si"
   ]
  },
  {
   "cell_type": "code",
   "execution_count": 303,
   "id": "90734482-c022-4923-95ca-83f3096e4c55",
   "metadata": {},
   "outputs": [],
   "source": [
    "def register_check(dictionar):\n",
    "    dictionar_nou = {}\n",
    "    for k, v in dictionar.items():\n",
    "        if v == 'yes':\n",
    "            dictionar_nou.update()\n",
    "    return len(dictionar_nou.keys())"
   ]
  },
  {
   "cell_type": "code",
   "execution_count": 304,
   "id": "8b336b2e-9cb3-40cb-9444-62fdf17b8097",
   "metadata": {},
   "outputs": [
    {
     "data": {
      "text/plain": [
       "0"
      ]
     },
     "execution_count": 304,
     "metadata": {},
     "output_type": "execute_result"
    }
   ],
   "source": [
    "register_check(register)"
   ]
  },
  {
   "cell_type": "raw",
   "id": "469fbc01-e6c5-4fe2-b19c-e15299a80bd7",
   "metadata": {},
   "source": [
    "names = [\"kerry\", \"dickson\", \"John\", \"Mary\",\n",
    "\"carol\", \"Rose\", \"adam\"]\n",
    "You are given a list of names above. This list is made up of names\n",
    "of lowercase and uppercase letters. Your task is to write a code\n",
    "that will return a tuple of all the names in the list that have only\n",
    "lowercase letters. Your tuple should have names sorted\n",
    "alphabetically in descending order. Using the list above, your\n",
    "code should return:\n",
    "('kerry', 'dickson', 'carol', 'adam')"
   ]
  },
  {
   "cell_type": "code",
   "execution_count": 322,
   "id": "ef01c6c9-ef5e-43bc-98cb-682d13fd1aa2",
   "metadata": {},
   "outputs": [],
   "source": [
    "names = [\"kerry\", \"dickson\", \"John\", \"Mary\",\n",
    "         \"carol\", \"Rose\", \"adam\"]"
   ]
  },
  {
   "cell_type": "code",
   "execution_count": 323,
   "id": "df9646a3-4a22-4a91-a965-a21835ed7146",
   "metadata": {},
   "outputs": [
    {
     "data": {
      "text/plain": [
       "['John', 'Mary', 'Rose', 'adam', 'carol', 'dickson', 'kerry']"
      ]
     },
     "execution_count": 323,
     "metadata": {},
     "output_type": "execute_result"
    }
   ],
   "source": [
    "new_names = sorted(names)\n",
    "new_names"
   ]
  },
  {
   "cell_type": "code",
   "execution_count": 324,
   "id": "de27029a-083f-41d2-9a9d-7de597e5a563",
   "metadata": {},
   "outputs": [
    {
     "data": {
      "text/plain": [
       "list"
      ]
     },
     "execution_count": 324,
     "metadata": {},
     "output_type": "execute_result"
    }
   ],
   "source": [
    "type(new_names)"
   ]
  },
  {
   "cell_type": "code",
   "execution_count": 341,
   "id": "55a05f4b-a72f-4c3d-b0a1-8800a6759d68",
   "metadata": {},
   "outputs": [],
   "source": [
    "def convert(a_list):\n",
    "    lista = []\n",
    "    for i in a_list:\n",
    "        if i == i.lower():\n",
    "            lista.append(i)\n",
    "    return tuple(lista)"
   ]
  },
  {
   "cell_type": "code",
   "execution_count": 342,
   "id": "48d77874-c589-4c2a-9ca4-9c3eef503cc0",
   "metadata": {},
   "outputs": [
    {
     "data": {
      "text/plain": [
       "('kerry', 'dickson', 'carol', 'adam')"
      ]
     },
     "execution_count": 342,
     "metadata": {},
     "output_type": "execute_result"
    }
   ],
   "source": [
    "convert(names)"
   ]
  },
  {
   "cell_type": "markdown",
   "id": "68625588-eabb-4d7c-87f2-11e9ce48f2ae",
   "metadata": {},
   "source": [
    "Day 4 challenge"
   ]
  },
  {
   "cell_type": "raw",
   "id": "a3b66fbf-b394-4731-9c6a-eb616e4e985f",
   "metadata": {},
   "source": [
    "Write a function called only_floats, which takes two\n",
    "parameters a and b, and returns 2 if both arguments are floats,\n",
    "returns 1 if only one argument is a float, and returns 0 if neither\n",
    "argument is a float. If you pass (12.1, 23) as an argument, your\n",
    "function should return a 1."
   ]
  },
  {
   "cell_type": "code",
   "execution_count": 532,
   "id": "8535e589-e053-4440-89a7-b5b0cd1e4336",
   "metadata": {},
   "outputs": [
    {
     "data": {
      "text/plain": [
       "\" Need to work harder :))\\ndef input_number(first, second):\\n    input_first_number = input('Enter first no:')\\n    input_second_number = input('Enter second no:')\\n    a_1 = int(a_1)\\n    b_1 = int(b_1)\\n    a_2 = float(a_2)\\n    b_2 = float(b_2)\\n    if a_1 == input_first_number or  a_2 == input_first_number:\\n        return input_first_number\\n    if input_second_number == b_1 or input_second_number == b_2:\\n        return input_second_number\\n\\ndef only_floats(a,b):\\n    if type(a) is int and type(b) is int:\\n        return '0'\\n    elif type(b) is int or type(a) is int:\\n        return '1'\\n    else:\\n        return '2'\\nprint(only_floats(input_first_number,input_second_number), type(input_first_number), type(input_second_number))\""
      ]
     },
     "execution_count": 532,
     "metadata": {},
     "output_type": "execute_result"
    }
   ],
   "source": [
    "''' Need to work harder :))\n",
    "def input_number(first, second):\n",
    "    input_first_number = input('Enter first no:')\n",
    "    input_second_number = input('Enter second no:')\n",
    "    a_1 = int(a_1)\n",
    "    b_1 = int(b_1)\n",
    "    a_2 = float(a_2)\n",
    "    b_2 = float(b_2)\n",
    "    if a_1 == input_first_number or  a_2 == input_first_number:\n",
    "        return input_first_number\n",
    "    if input_second_number == b_1 or input_second_number == b_2:\n",
    "        return input_second_number\n",
    "\n",
    "def only_floats(a,b):\n",
    "    if type(a) is int and type(b) is int:\n",
    "        return '0'\n",
    "    elif type(b) is int or type(a) is int:\n",
    "        return '1'\n",
    "    else:\n",
    "        return '2'\n",
    "print(only_floats(input_first_number,input_second_number), type(input_first_number), type(input_second_number))'''"
   ]
  },
  {
   "cell_type": "code",
   "execution_count": 538,
   "id": "11fe6d97-324c-432f-81dc-11c7ece944c3",
   "metadata": {},
   "outputs": [
    {
     "data": {
      "text/plain": [
       "'1'"
      ]
     },
     "execution_count": 538,
     "metadata": {},
     "output_type": "execute_result"
    }
   ],
   "source": [
    "a = 12.1\n",
    "b = 23\n",
    "only_floats(a,b)"
   ]
  },
  {
   "cell_type": "code",
   "execution_count": 373,
   "id": "040459a3-7114-4eb9-809f-446920288eb7",
   "metadata": {},
   "outputs": [
    {
     "data": {
      "text/plain": [
       "1"
      ]
     },
     "execution_count": 373,
     "metadata": {},
     "output_type": "execute_result"
    }
   ],
   "source": [
    "int(a)"
   ]
  },
  {
   "cell_type": "code",
   "execution_count": 534,
   "id": "0ad25cec-e9d1-471d-97f4-d965af124c3a",
   "metadata": {},
   "outputs": [],
   "source": [
    "def only_floats(a,b):\n",
    "    if type(a) is int and type(b) is int:\n",
    "        return '0'\n",
    "    elif type(b) is int or type(a) is int:\n",
    "        return '1'\n",
    "    else:\n",
    "        return '2'"
   ]
  },
  {
   "cell_type": "code",
   "execution_count": 541,
   "id": "e92323e7-61f6-4d06-99db-d3de55af0737",
   "metadata": {},
   "outputs": [
    {
     "data": {
      "text/plain": [
       "('2', float, float)"
      ]
     },
     "execution_count": 541,
     "metadata": {},
     "output_type": "execute_result"
    }
   ],
   "source": [
    "a1 = 12.1\n",
    "b1 = 23.55\n",
    "only_floats(a1,b1), type(a1), type(b1)"
   ]
  },
  {
   "cell_type": "raw",
   "id": "3db38a71-43e1-4c04-96fe-0b565314248c",
   "metadata": {},
   "source": [
    "Write a function called word_index that takes one argument,\n",
    "a list of strings and returns the index of the longest word in the\n",
    "list. If there is no longest word (if all the strings are of the same\n",
    "length), the function should return zero (0). For example, the list\n",
    "below should return 2.\n",
    "words1 = [\"Hate\", \"remorse\", \"vengeance\"]\n",
    "And this list below, shoul return zero (0)\n",
    "words2 = [\"Love\", \"Hate\"]"
   ]
  },
  {
   "cell_type": "code",
   "execution_count": 117,
   "id": "72be8f5d-da17-4ee9-b8b1-22b783cf182c",
   "metadata": {},
   "outputs": [],
   "source": [
    "def word_index(lista_1):\n",
    "    for longest_element in lista_1:\n",
    "        longest_element = max(lista_1, key = len)\n",
    "        return lista_1.index(longest_element)"
   ]
  },
  {
   "cell_type": "code",
   "execution_count": 118,
   "id": "ccfb0c9c-4d60-468d-b36a-94a14f0bab99",
   "metadata": {},
   "outputs": [
    {
     "data": {
      "text/plain": [
       "2"
      ]
     },
     "execution_count": 118,
     "metadata": {},
     "output_type": "execute_result"
    }
   ],
   "source": [
    "words1 = [\"Hate\", \"remorse\", \"vengeance\"]\n",
    "word_index(words1)"
   ]
  },
  {
   "cell_type": "code",
   "execution_count": 119,
   "id": "c094c835-ef51-4979-89a9-f8be9b4aa366",
   "metadata": {},
   "outputs": [
    {
     "data": {
      "text/plain": [
       "0"
      ]
     },
     "execution_count": 119,
     "metadata": {},
     "output_type": "execute_result"
    }
   ],
   "source": [
    "words2 = [\"Love\", \"Hate\"]\n",
    "word_index(words2)"
   ]
  },
  {
   "cell_type": "code",
   "execution_count": 56,
   "id": "8c5ac661-2fe6-4214-9f45-a9c258647883",
   "metadata": {},
   "outputs": [
    {
     "data": {
      "text/plain": [
       "'the_longest_string'"
      ]
     },
     "execution_count": 56,
     "metadata": {},
     "output_type": "execute_result"
    }
   ],
   "source": [
    "a_list = [\"a_string\", \"the_longest_string\", \"string\"]\n",
    "longest_string = max(a_list, key=len)\n",
    "longest_string"
   ]
  },
  {
   "cell_type": "code",
   "execution_count": null,
   "id": "0173bd58-5291-489e-bb26-3257f1a763fa",
   "metadata": {},
   "outputs": [],
   "source": [
    "longest_element = max(lista_1, key = len)"
   ]
  },
  {
   "cell_type": "markdown",
   "id": "d2a5b24f-bf8c-4c8c-82d8-199dc2e53abb",
   "metadata": {},
   "source": [
    "Day 5 challenge"
   ]
  },
  {
   "cell_type": "raw",
   "id": "123ca84c-58bd-43f9-b491-9d19029fdd8f",
   "metadata": {},
   "source": [
    "Create a function called my_discount. The function takes no\n",
    "arguments but asks the user to input the price and the\n",
    "discount (percentage) of the product. Once the user inputs the\n",
    "price and discount, it calculates the price after the discount.\n",
    "The function should return the price after the discount. For\n",
    "example, if the user enters 150 as price and 15% as the discount,\n",
    "your function should return 127.5."
   ]
  },
  {
   "cell_type": "code",
   "execution_count": 1,
   "id": "3ed9245b-4387-497f-b285-cf59e08aa05e",
   "metadata": {},
   "outputs": [],
   "source": [
    "import math"
   ]
  },
  {
   "cell_type": "code",
   "execution_count": 20,
   "id": "ed9b51ff-bc91-4883-a7e9-b7ce218ac404",
   "metadata": {},
   "outputs": [
    {
     "name": "stdin",
     "output_type": "stream",
     "text": [
      "Enter the price: 100\n",
      "Enter discount you want: 10\n"
     ]
    },
    {
     "name": "stdout",
     "output_type": "stream",
     "text": [
      "Final price is: 90.0\n"
     ]
    }
   ],
   "source": [
    "def my_discount():\n",
    "    final_price = 0\n",
    "    price = float(input('Enter the price:'))\n",
    "    percentage_discount = float(input('Enter discount you want:'))\n",
    "    if price >= 0:\n",
    "        final_price = (price - (price*percentage_discount)/100)\n",
    "    return final_price\n",
    "\n",
    "if __name__ == '__main__':\n",
    "    print(f'Final price is: {my_discount()}')"
   ]
  },
  {
   "cell_type": "raw",
   "id": "ee872f98-7a21-472d-84bb-03cda58431d9",
   "metadata": {},
   "source": [
    "You work for a school and your boss wants to know how many\n",
    "female and male students are enrolled in the school. The school\n",
    "has saved the students in a list. Your task is to write a code that\n",
    "will count how many males and females are in the list. Here is a\n",
    "list below:\n",
    "students = ['Male', 'Female', 'female', 'male', 'male', 'male',\n",
    "'female', 'male', 'Female', 'Male', 'Female', 'Male', 'female']\n",
    "Your code should return a list of tuples. The list above should\n",
    "return:\n",
    "[(‘Male’,7), (‘female’,6)]"
   ]
  },
  {
   "cell_type": "code",
   "execution_count": 17,
   "id": "f538ae0f-6357-4265-8873-d83221892c27",
   "metadata": {},
   "outputs": [],
   "source": [
    "students = ['Male', 'Female', 'female', 'male', 'male', 'male',\n",
    "            'female', 'male', 'Female', 'Male', 'Female', 'Male', 'female']\n"
   ]
  },
  {
   "cell_type": "code",
   "execution_count": 18,
   "id": "e7dbedc7-baea-4c7c-8d22-0e7f2ef977b0",
   "metadata": {},
   "outputs": [],
   "source": [
    "def count_student(students):\n",
    "    students_1 = [e.lower() for e in students]\n",
    "    students_2 = [f for f in students_1 if f == 'male']\n",
    "    students_3 = [x for x in students_1 if x == 'female']\n",
    "    for f in students_2:\n",
    "        f = students_2.count('male')\n",
    "    for x in students_3:\n",
    "        x = students_3.count('female')\n",
    "    return [(students_2.__getitem__(0), f), (students_3.__getitem__(0), x)]"
   ]
  },
  {
   "cell_type": "code",
   "execution_count": 19,
   "id": "09f539ef-e3b4-4164-95c2-ddc7c590629d",
   "metadata": {},
   "outputs": [
    {
     "data": {
      "text/plain": [
       "[('male', 7), ('female', 6)]"
      ]
     },
     "execution_count": 19,
     "metadata": {},
     "output_type": "execute_result"
    }
   ],
   "source": [
    "count_students = ['Male', 'Female', 'female', 'male', 'male', 'male',\n",
    "            'female', 'male', 'Female', 'Male', 'Female', 'Male', 'female']\n",
    "count_student(count_students)"
   ]
  },
  {
   "cell_type": "code",
   "execution_count": 21,
   "id": "1411f74e-a772-411e-b647-b154376f88c2",
   "metadata": {},
   "outputs": [],
   "source": [
    "def count_students(students):\n",
    "    students_1 = [e.lower() for e in students]\n",
    "    final_list = [] \n",
    "    for d in students_1:\n",
    "        x = students_1.count('male')\n",
    "        b = students_1.count('female')\n",
    "    return [(x ,b)]"
   ]
  },
  {
   "cell_type": "code",
   "execution_count": 22,
   "id": "51f56388-c734-4476-9ce8-9b08841b9570",
   "metadata": {},
   "outputs": [],
   "source": [
    "students = ['Male', 'Female', 'female', 'male', 'male', 'male',\n",
    "            'female', 'male', 'Female', 'Male', 'Female', 'Male', 'female']"
   ]
  },
  {
   "cell_type": "code",
   "execution_count": 23,
   "id": "4b74c59f-8498-47d0-b6b5-93ccd62c4ef1",
   "metadata": {},
   "outputs": [
    {
     "data": {
      "text/plain": [
       "[(7, 6)]"
      ]
     },
     "execution_count": 23,
     "metadata": {},
     "output_type": "execute_result"
    }
   ],
   "source": [
    "count_students(students)"
   ]
  },
  {
   "cell_type": "code",
   "execution_count": 55,
   "id": "5f151e15-6a83-4de4-9198-e153104e49b1",
   "metadata": {},
   "outputs": [],
   "source": [
    "lista_4 = ''\n",
    "#dir(lista_4)"
   ]
  },
  {
   "cell_type": "markdown",
   "id": "aba31e18-3ae8-4381-b0db-9f33a3e30c72",
   "metadata": {},
   "source": [
    "Day 6 challenge"
   ]
  },
  {
   "cell_type": "raw",
   "id": "3c8c95a8-587a-4f71-ba9a-6de2bccbcf81",
   "metadata": {},
   "source": [
    "Write a function called user_name that generates a username\n",
    "from the user’s email. The code should ask the user to input an\n",
    "email and the code should return everything before the @ sign\n",
    "as their user name. For example, if someone enters\n",
    "ben@gmail.com, the code should return ben as their user\n",
    "name."
   ]
  },
  {
   "cell_type": "code",
   "execution_count": 49,
   "id": "5f1e40eb-481a-4990-9303-5ce7d258fbb8",
   "metadata": {},
   "outputs": [],
   "source": [
    "def user_name_by_email(e_mail):\n",
    "    user_name = '11@11.11'\n",
    "    for user in e_mail:\n",
    "        user_name = str(e_mail)\n",
    "        user = user_name[: user_name.index('@')]\n",
    "    return user"
   ]
  },
  {
   "cell_type": "code",
   "execution_count": 52,
   "id": "dee9a17e-158c-4294-9d56-7a083a1df904",
   "metadata": {},
   "outputs": [
    {
     "data": {
      "text/plain": [
       "'bvidru'"
      ]
     },
     "execution_count": 52,
     "metadata": {},
     "output_type": "execute_result"
    }
   ],
   "source": [
    "e_mail_1 = 'bvidru@gmail.com'\n",
    "user_name_by_email(e_mail_1)"
   ]
  },
  {
   "cell_type": "raw",
   "id": "68ba17e8-c540-47d3-8233-2c41b56dd907",
   "metadata": {},
   "source": [
    "Write a function called zeroed code that takes a list of numbers\n",
    "as an argument. The code should zero (0) the first and the last\n",
    "number in the list. For example, if the input is [2, 5, 7, 8, 9],\n",
    "your code should return [0, 5, 7, 8, 0]."
   ]
  },
  {
   "cell_type": "code",
   "execution_count": 62,
   "id": "bf389c25-6e58-4566-b543-434df5aa58ed",
   "metadata": {},
   "outputs": [],
   "source": [
    "def zeros(a_list):\n",
    "    for element in a_list:\n",
    "        a_list[0] = 0\n",
    "        a_list[-1] = 0\n",
    "    return a_list\n",
    "        "
   ]
  },
  {
   "cell_type": "code",
   "execution_count": 63,
   "id": "2886f59d-8da9-44f7-9fa1-64ad3ff00bf6",
   "metadata": {},
   "outputs": [
    {
     "data": {
      "text/plain": [
       "[0, 5, 7, 8, 0]"
      ]
     },
     "execution_count": 63,
     "metadata": {},
     "output_type": "execute_result"
    }
   ],
   "source": [
    "a_lst = [2, 5, 7, 8, 9]\n",
    "zeros(a_lst)"
   ]
  },
  {
   "cell_type": "markdown",
   "id": "0bcbe248-28da-4688-b991-69f8053a4c1d",
   "metadata": {},
   "source": [
    "Day 7 challenge"
   ]
  },
  {
   "cell_type": "raw",
   "id": "e6838478-55f5-4d09-bab0-e89901fe9b21",
   "metadata": {},
   "source": [
    "Write a function called string_range that takes a single\n",
    "number and returns a string of its range. The string characters\n",
    "should be separated by dots(.) For example, if you pass 6 as\n",
    "an argument, your function should return ‘0.1.2.3.4.5’."
   ]
  },
  {
   "cell_type": "code",
   "execution_count": 135,
   "id": "52344824-9d69-4ffc-9253-185590a4f0a4",
   "metadata": {},
   "outputs": [],
   "source": [
    "def string_range(number):\n",
    "    n = list(range(number))\n",
    "    no = [str(x) for x in n]\n",
    "    number_1 = '.'.join(no)\n",
    "    return number_1"
   ]
  },
  {
   "cell_type": "code",
   "execution_count": 137,
   "id": "883599ab-02e2-47e4-9601-25e3b1490556",
   "metadata": {},
   "outputs": [
    {
     "data": {
      "text/plain": [
       "'0.1.2.3.4.5'"
      ]
     },
     "execution_count": 137,
     "metadata": {},
     "output_type": "execute_result"
    }
   ],
   "source": [
    "s = 6\n",
    "string_range(s)"
   ]
  },
  {
   "cell_type": "raw",
   "id": "8e55cc6b-bbfa-43b7-850b-d1d2c315719a",
   "metadata": {},
   "source": [
    "You are given a list of names, and you are asked to write a code\n",
    "that returns all the names that start with ‘S’. Your code should\n",
    "return a dictionary of all the names that start with S and how\n",
    "many times they appear in the dictionary. Here is a list below:\n",
    "names = [\"Joseph\",\"Nathan\", \"Sasha\", \"Kelly\",\n",
    "\"Muhammad\", \"Jabulani\", \"Sera”, \"Patel\", \"Sera”]\n",
    "Your code should return: {“Sasha”: 1, “Sera”: 2}"
   ]
  },
  {
   "cell_type": "code",
   "execution_count": 291,
   "id": "cb560cf0-aebf-4438-901a-51d5ce02119f",
   "metadata": {},
   "outputs": [],
   "source": [
    "def a_list_of_s(names):\n",
    "    lista_nume = []\n",
    "    dictionar_nume = {}\n",
    "    for nume in names:\n",
    "        if 'S' in nume:\n",
    "            lista_nume.append(nume)\n",
    "    for s_name in lista_nume:\n",
    "        dictionar_nume[s_name] = dictionar_nume.get(s_name, 0) + 1\n",
    "    return dictionar_nume"
   ]
  },
  {
   "cell_type": "code",
   "execution_count": 292,
   "id": "c8b143a0-f43b-4b71-b060-929036330067",
   "metadata": {},
   "outputs": [
    {
     "data": {
      "text/plain": [
       "{'Sasha': 1, 'Sera': 2}"
      ]
     },
     "execution_count": 292,
     "metadata": {},
     "output_type": "execute_result"
    }
   ],
   "source": [
    "names = [\"Joseph\",\"Nathan\", \"Sasha\", \"Kelly\", \"Muhammad\", \"Jabulani\", \"Sera\", \"Patel\", \"Sera\"]\n",
    "a_list_of_s(names)"
   ]
  },
  {
   "cell_type": "markdown",
   "id": "59aa6153-ec63-43b9-8c0c-602b71d19744",
   "metadata": {},
   "source": [
    "Day 8 challenge"
   ]
  },
  {
   "cell_type": "raw",
   "id": "8680bfd1-f442-43dd-834b-741988cace9d",
   "metadata": {},
   "source": [
    "Write a function called odd_even that has one parameter and\n",
    "takes a list of numbers as an argument. The function returns the\n",
    "difference between the largest even number in the list and the\n",
    "smallest odd number in the list. For example, if you pass\n",
    "[1,2,4,6] as an argument the function should return 6 -1= 5."
   ]
  },
  {
   "cell_type": "code",
   "execution_count": 311,
   "id": "4733114d-9fa9-4b56-8a79-04cd5ffe12a1",
   "metadata": {},
   "outputs": [],
   "source": [
    "def odd_even(a_list_of_numbers):\n",
    "    list_number = []\n",
    "    list_number_1 = []\n",
    "    result = 0\n",
    "    for i in a_list_of_numbers:\n",
    "        if (i%2) == 0:\n",
    "            list_number.append(i)\n",
    "        else:\n",
    "            list_number_1.append(i)\n",
    "    result = max(list_number) - min(list_number_1)\n",
    "    print(f'{max(list_number)} - {min(list_number_1)} = {result}')"
   ]
  },
  {
   "cell_type": "code",
   "execution_count": 313,
   "id": "5363887f-c044-40a8-85a5-dadd2bd7354b",
   "metadata": {},
   "outputs": [
    {
     "name": "stdout",
     "output_type": "stream",
     "text": [
      "48 - 5 = 43\n"
     ]
    }
   ],
   "source": [
    "a_lst = [10,12,15,14,16,22,17,31,48,95,99,8,4,5]\n",
    "odd_even(a_lst)"
   ]
  },
  {
   "cell_type": "raw",
   "id": "4b41e935-7a58-456c-b5be-c1385b1eda43",
   "metadata": {},
   "source": [
    "Write a function called prime_numbers. This function asks a\n",
    "user to enter a number (integer) as an argument and returns a\n",
    "list of all the prime numbers within its range. For example, if user\n",
    "enters 10, your code should return [2, 3, 5, 7] as prime numbers."
   ]
  },
  {
   "cell_type": "code",
   "execution_count": 70,
   "id": "73f6a64b-7a8d-445a-aaeb-7aad436489e5",
   "metadata": {},
   "outputs": [
    {
     "name": "stdin",
     "output_type": "stream",
     "text": [
      "Enter a number:  2\n"
     ]
    },
    {
     "name": "stdout",
     "output_type": "stream",
     "text": [
      " List of prime numbers is [2]\n"
     ]
    }
   ],
   "source": [
    "def prime_numbers(no_integer):\n",
    "    list_of_prime_no = []\n",
    "    for numbers in range (1, no_integer+1):\n",
    "        no = 0\n",
    "        if numbers < 2:\n",
    "            continue\n",
    "        for i in range (2, numbers):\n",
    "            if (numbers%i) == 0:\n",
    "                no = 1\n",
    "                break\n",
    "        if no == 0:\n",
    "            list_of_prime_no.append(numbers)\n",
    "    return list_of_prime_no\n",
    "if __name__ == \"__main__\":\n",
    "    num = int(input('Enter a number: '))\n",
    "    result = prime_numbers(num)\n",
    "    print(f' List of prime numbers is {result}') "
   ]
  },
  {
   "cell_type": "markdown",
   "id": "29aafd5e-5f83-472c-aeef-943f7c522704",
   "metadata": {},
   "source": [
    "Day 9 challenge"
   ]
  },
  {
   "cell_type": "raw",
   "id": "f381afff-c495-4b20-a1c5-e7ea41cc9db6",
   "metadata": {},
   "source": [
    "Create a function called biggest_odd that takes a string of\n",
    "numbers and returns the biggest odd number in the list. For\n",
    "example, if you pass ‘23569’ as an argument, your function\n",
    "should return 9. Use list comprehension."
   ]
  },
  {
   "cell_type": "code",
   "execution_count": 82,
   "id": "22d4dd68-7c96-4077-8612-858b210f7ed8",
   "metadata": {},
   "outputs": [
    {
     "name": "stdin",
     "output_type": "stream",
     "text": [
      "Enter a strig of numbers:  23569\n"
     ]
    },
    {
     "name": "stdout",
     "output_type": "stream",
     "text": [
      "Biggest odd number is 9\n"
     ]
    }
   ],
   "source": [
    "def biggest_odd(num):\n",
    "    list_of_numbers = []\n",
    "    odd_numbers = []\n",
    "    for n in num:\n",
    "        list_of_numbers.append(n)\n",
    "        for no in list_of_numbers:\n",
    "            if (int(no)%2) != 0:\n",
    "                odd_numbers.append(no)\n",
    "    return max(odd_numbers)\n",
    "if __name__ == '__main__':\n",
    "    input_no = input('Enter a strig of numbers: ')\n",
    "    result = biggest_odd(input_no)\n",
    "    print(f'Biggest odd number is {result}')"
   ]
  },
  {
   "cell_type": "raw",
   "id": "8884ac26-5508-460e-9bb2-ed979eab70c1",
   "metadata": {},
   "source": [
    "Write a function called zeros_last. This function takes a list as\n",
    "argument. If a list has zeros (0), it will move them to the end of\n",
    "the list and maintain the order of the other numbers in the list.\n",
    "If there are no Zeros in the list, the function should return the\n",
    "original list sorted in ascending order. For example, if you pass\n",
    "[1, 4, 6, 0, 7,0,9] as an argument, your code should return [1,\n",
    "4, 6, 7, 9, 0, 0]. If you pass [2, 1, 4, 7, 6] as your argument,\n",
    "your code should return [1, 2, 4, 6, 7]."
   ]
  },
  {
   "cell_type": "code",
   "execution_count": 246,
   "id": "7f63c470-5647-4af3-abba-6e24e3dde1ec",
   "metadata": {},
   "outputs": [],
   "source": [
    "def zeros_last(a_list):\n",
    "    for n in a_list:\n",
    "        if n == 0:\n",
    "            a_list.insert(-1, a_list.pop(n))\n",
    "    return a_list     "
   ]
  },
  {
   "cell_type": "code",
   "execution_count": 247,
   "id": "485bbf9d-c875-4a0f-8e34-5fc1062c1647",
   "metadata": {},
   "outputs": [
    {
     "data": {
      "text/plain": [
       "[6, 0, 7, 0, 1, 4, 9]"
      ]
     },
     "execution_count": 247,
     "metadata": {},
     "output_type": "execute_result"
    }
   ],
   "source": [
    "number=[1, 4, 6, 0, 7,0,9]\n",
    "zeros_last(number)"
   ]
  },
  {
   "cell_type": "code",
   "execution_count": 186,
   "id": "268e81e7-9e92-4636-b29f-4a91bc7f7d2a",
   "metadata": {},
   "outputs": [
    {
     "name": "stdout",
     "output_type": "stream",
     "text": [
      "[0, 0, 1, 4, 6, 7, 9]\n"
     ]
    }
   ],
   "source": [
    "number=[1,4 , 6, 0, 7,0,9]\n",
    "for i in range(len(number)):\n",
    "    for j in range(i+1,len(number)):\n",
    "        if number[i]>number[j]:\n",
    "            number[i],number[j]=number[j],number[i]\n",
    "print(number)"
   ]
  },
  {
   "cell_type": "code",
   "execution_count": null,
   "id": "8e426f8e-1a7f-47e0-8908-a1bfe5b2ca3c",
   "metadata": {},
   "outputs": [],
   "source": []
  },
  {
   "cell_type": "code",
   "execution_count": 181,
   "id": "bf276337-0eb7-47d6-9dcf-2fcd134eb357",
   "metadata": {},
   "outputs": [
    {
     "data": {
      "text/plain": [
       "([1, 4, 6, 0, 7, 0, 9], 5)"
      ]
     },
     "execution_count": 181,
     "metadata": {},
     "output_type": "execute_result"
    }
   ],
   "source": [
    "l = [1,4 , 6, 0, 7,0,9]\n",
    "index_x = 0\n",
    "for idx, x in enumerate(l):\n",
    "    if x == 0:\n",
    "        index_x = idx\n",
    "l, index_x        "
   ]
  },
  {
   "cell_type": "code",
   "execution_count": null,
   "id": "78d49ca2-6756-4c46-9857-83704916d7aa",
   "metadata": {},
   "outputs": [],
   "source": []
  },
  {
   "cell_type": "code",
   "execution_count": 172,
   "id": "0739f803-24b7-4f8a-9e87-b6bca8506b00",
   "metadata": {},
   "outputs": [],
   "source": [
    "l = [1,4 , 6, 0, 7,0,9]"
   ]
  },
  {
   "cell_type": "code",
   "execution_count": 173,
   "id": "7672795c-a057-4b84-9712-d3874dc9800d",
   "metadata": {},
   "outputs": [
    {
     "data": {
      "text/plain": [
       "[1, 4, 6, 0, 0, 9]"
      ]
     },
     "execution_count": 173,
     "metadata": {},
     "output_type": "execute_result"
    }
   ],
   "source": [
    "l.pop(4)\n",
    "l"
   ]
  },
  {
   "cell_type": "code",
   "execution_count": 89,
   "id": "2287c062-5134-47a6-97a9-175774e96820",
   "metadata": {},
   "outputs": [
    {
     "data": {
      "text/plain": [
       "['__add__',\n",
       " '__class__',\n",
       " '__class_getitem__',\n",
       " '__contains__',\n",
       " '__delattr__',\n",
       " '__delitem__',\n",
       " '__dir__',\n",
       " '__doc__',\n",
       " '__eq__',\n",
       " '__format__',\n",
       " '__ge__',\n",
       " '__getattribute__',\n",
       " '__getitem__',\n",
       " '__gt__',\n",
       " '__hash__',\n",
       " '__iadd__',\n",
       " '__imul__',\n",
       " '__init__',\n",
       " '__init_subclass__',\n",
       " '__iter__',\n",
       " '__le__',\n",
       " '__len__',\n",
       " '__lt__',\n",
       " '__mul__',\n",
       " '__ne__',\n",
       " '__new__',\n",
       " '__reduce__',\n",
       " '__reduce_ex__',\n",
       " '__repr__',\n",
       " '__reversed__',\n",
       " '__rmul__',\n",
       " '__setattr__',\n",
       " '__setitem__',\n",
       " '__sizeof__',\n",
       " '__str__',\n",
       " '__subclasshook__',\n",
       " 'append',\n",
       " 'clear',\n",
       " 'copy',\n",
       " 'count',\n",
       " 'extend',\n",
       " 'index',\n",
       " 'insert',\n",
       " 'pop',\n",
       " 'remove',\n",
       " 'reverse',\n",
       " 'sort']"
      ]
     },
     "execution_count": 89,
     "metadata": {},
     "output_type": "execute_result"
    }
   ],
   "source": [
    "dir(l)"
   ]
  },
  {
   "cell_type": "code",
   "execution_count": null,
   "id": "d2c867fd-e388-4f2f-ba1c-0431654bef7f",
   "metadata": {},
   "outputs": [],
   "source": []
  }
 ],
 "metadata": {
  "kernelspec": {
   "display_name": "curs_python_env",
   "language": "python",
   "name": "curs_python_env"
  },
  "language_info": {
   "codemirror_mode": {
    "name": "ipython",
    "version": 3
   },
   "file_extension": ".py",
   "mimetype": "text/x-python",
   "name": "python",
   "nbconvert_exporter": "python",
   "pygments_lexer": "ipython3",
   "version": "3.10.5"
  }
 },
 "nbformat": 4,
 "nbformat_minor": 5
}
