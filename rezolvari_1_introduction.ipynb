{
 "cells": [
  {
   "cell_type": "code",
   "execution_count": 40,
   "id": "e60482a4-4d53-4330-a6b8-1f18300e56e7",
   "metadata": {},
   "outputs": [
    {
     "name": "stdout",
     "output_type": "stream",
     "text": [
      "1. \"\"\"\n",
      "2. Write a program that reads a text file and then prints it with numbered lines.\n",
      "3. \"\"\"\n"
     ]
    }
   ],
   "source": [
    "with open(\"file_read.py\") as file:\n",
    "    for index, line in enumerate(file.readlines(), 1):\n",
    "        print(f'{index}. {line.strip()}')"
   ]
  },
  {
   "cell_type": "code",
   "execution_count": 38,
   "id": "f4a39b89-ba98-47f9-8e9f-338618f65b20",
   "metadata": {},
   "outputs": [],
   "source": [
    "#dir(line)"
   ]
  },
  {
   "cell_type": "code",
   "execution_count": 47,
   "id": "cee2dbe5-70ae-406b-9865-9a8b43709c2c",
   "metadata": {},
   "outputs": [
    {
     "name": "stdin",
     "output_type": "stream",
     "text": [
      "Enter a list of words: sdads sadasd\n"
     ]
    }
   ],
   "source": [
    "list_of_words = input('Enter a list of words:')\n",
    "with open('new_file.txt', 'w') as file:\n",
    "    file.write(list_of_words)\n",
    "    "
   ]
  },
  {
   "cell_type": "code",
   "execution_count": 48,
   "id": "01e7fed3-72ea-4e76-840d-01fac80dec90",
   "metadata": {},
   "outputs": [],
   "source": [
    "#dir(file)"
   ]
  },
  {
   "cell_type": "code",
   "execution_count": null,
   "id": "2308af20-d780-4a4b-8840-9e57ce1a17fd",
   "metadata": {},
   "outputs": [],
   "source": [
    "'''\n",
    "    aceasta functie transforma siruri de caractere in numere intregi\n",
    "    :param mystr: string, de forma ....\n",
    "    :return: integer (nr. intregi)\n",
    "    '''"
   ]
  },
  {
   "cell_type": "code",
   "execution_count": 54,
   "id": "e005aaaa-20b9-4c8d-80fd-c9bd70de7292",
   "metadata": {},
   "outputs": [
    {
     "ename": "ValueError",
     "evalue": "could not convert string to float: '-f'",
     "output_type": "error",
     "traceback": [
      "\u001b[1;31m---------------------------------------------------------------------------\u001b[0m",
      "\u001b[1;31mValueError\u001b[0m                                Traceback (most recent call last)",
      "Input \u001b[1;32mIn [54]\u001b[0m, in \u001b[0;36m<cell line: 13>\u001b[1;34m()\u001b[0m\n\u001b[0;32m     12\u001b[0m     \u001b[38;5;28;01mreturn\u001b[39;00m rezultat\n\u001b[0;32m     13\u001b[0m \u001b[38;5;28;01mif\u001b[39;00m \u001b[38;5;18m__name__\u001b[39m \u001b[38;5;241m==\u001b[39m\u001b[38;5;124m'\u001b[39m\u001b[38;5;124m__main__\u001b[39m\u001b[38;5;124m'\u001b[39m:\n\u001b[1;32m---> 14\u001b[0m     \u001b[43mstr_to_int\u001b[49m\u001b[43m(\u001b[49m\u001b[43msys\u001b[49m\u001b[38;5;241;43m.\u001b[39;49m\u001b[43margv\u001b[49m\u001b[43m[\u001b[49m\u001b[38;5;241;43m1\u001b[39;49m\u001b[43m]\u001b[49m\u001b[43m)\u001b[49m\n",
      "Input \u001b[1;32mIn [54]\u001b[0m, in \u001b[0;36mstr_to_int\u001b[1;34m(mystr)\u001b[0m\n\u001b[0;32m      8\u001b[0m     char_list\u001b[38;5;241m.\u001b[39mremove(\u001b[38;5;124m'\u001b[39m\u001b[38;5;124m \u001b[39m\u001b[38;5;124m'\u001b[39m)\n\u001b[0;32m      9\u001b[0m     mystr \u001b[38;5;241m=\u001b[39m \u001b[38;5;124m'\u001b[39m\u001b[38;5;124m'\u001b[39m\u001b[38;5;241m.\u001b[39mjoin(char_list)\n\u001b[1;32m---> 10\u001b[0m rezultat \u001b[38;5;241m=\u001b[39m \u001b[38;5;28mint\u001b[39m(\u001b[38;5;28;43mfloat\u001b[39;49m\u001b[43m(\u001b[49m\u001b[43mmystr\u001b[49m\u001b[43m)\u001b[49m)\n\u001b[0;32m     11\u001b[0m \u001b[38;5;28mprint\u001b[39m(rezultat, \u001b[38;5;28mtype\u001b[39m(rezultat))\n\u001b[0;32m     12\u001b[0m \u001b[38;5;28;01mreturn\u001b[39;00m rezultat\n",
      "\u001b[1;31mValueError\u001b[0m: could not convert string to float: '-f'"
     ]
    }
   ],
   "source": [
    "import sys\n",
    "def str_to_int(mystr: str) -> int:\n",
    "    char_list = list(mystr)\n",
    "    while ',' in mystr:\n",
    "        char_list.remove(',')\n",
    "        mystr = ''.join(char_list)\n",
    "    while ' ' in mystr:\n",
    "        char_list.remove(' ')\n",
    "        mystr = ''.join(char_list)\n",
    "    rezultat = int(float(mystr))\n",
    "    print(rezultat, type(rezultat))\n",
    "    return rezultat\n",
    "if __name__ =='__main__':\n",
    "    str_to_int(sys.argv[1])"
   ]
  },
  {
   "cell_type": "code",
   "execution_count": 2,
   "id": "a06121cd-b616-4786-b35f-bdccd44a254e",
   "metadata": {},
   "outputs": [
    {
     "name": "stdin",
     "output_type": "stream",
     "text": [
      "Enter a random year to check if it is a leap year: 2022\n"
     ]
    },
    {
     "name": "stdout",
     "output_type": "stream",
     "text": [
      "Year 2022 is not a leap year\n"
     ]
    }
   ],
   "source": [
    "import math\n",
    "def leap_year(year):\n",
    "    a_year = False\n",
    "    if year % 400 == 0 and year % 100 != 0:\n",
    "        a_year = True\n",
    "    elif year % 4 == 0:\n",
    "        a_year = True\n",
    "    return a_year\n",
    "        \n",
    "if __name__ == '__main__':\n",
    "    year = int(input('Enter a random year to check if it is a leap year:'))\n",
    "    if leap_year(year) is True:\n",
    "        print(f'Year {year} is a leap year')\n",
    "    else:\n",
    "        print(f'Year {year} is not a leap year')\n"
   ]
  },
  {
   "cell_type": "code",
   "execution_count": 101,
   "id": "baf0c45f-d08e-4aca-96f3-6daaf6e03083",
   "metadata": {},
   "outputs": [
    {
     "name": "stdin",
     "output_type": "stream",
     "text": [
      "Which year?  2000\n"
     ]
    },
    {
     "name": "stdout",
     "output_type": "stream",
     "text": [
      "2000 is leap: True\n"
     ]
    }
   ],
   "source": [
    "def is_leap_year(year):\n",
    "    leap = False\n",
    "    if year % 4 == 0 and year % 100 != 0:\n",
    "        leap = True\n",
    "    elif year % 400 == 0:\n",
    "        leap = True\n",
    "    return leap\n",
    "\n",
    "if __name__ == '__main__':\n",
    "    year = int(input('Which year? '))\n",
    "    print(f'{year} is leap: {is_leap_year(year)}')"
   ]
  },
  {
   "cell_type": "code",
   "execution_count": 9,
   "id": "b056a8b6-85d1-4311-a0cf-8e39bf117b24",
   "metadata": {},
   "outputs": [],
   "source": [
    "def a_list(elements):\n",
    "    lista = []\n",
    "    for a, b in lista:\n",
    "        a = min(lista)\n",
    "        b = max(lista)\n",
    "    return a"
   ]
  },
  {
   "cell_type": "code",
   "execution_count": 10,
   "id": "52dba331-0063-462f-af59-550888c0cc9e",
   "metadata": {},
   "outputs": [],
   "source": [
    "#dir(a_list)"
   ]
  },
  {
   "cell_type": "code",
   "execution_count": 38,
   "id": "cbfc5865-be56-41ac-bac4-68402bd9e72b",
   "metadata": {},
   "outputs": [
    {
     "data": {
      "text/plain": [
       "(1, 5, [5, 4, 3, 2, 1])"
      ]
     },
     "execution_count": 38,
     "metadata": {},
     "output_type": "execute_result"
    }
   ],
   "source": [
    "lista_mea = [1, 2, 3, 4, 5]\n",
    "min(lista_mea), max(lista_mea), list(reversed(lista_mea))"
   ]
  },
  {
   "cell_type": "code",
   "execution_count": 33,
   "id": "58b8989d-6a0b-4d08-98b9-614a752df347",
   "metadata": {},
   "outputs": [],
   "source": [
    "def o_lista(elemente):\n",
    "    a = 0\n",
    "    b = 0\n",
    "    for a, b in elemente:\n",
    "        a == min(elemente)\n",
    "        max(elemente) == b\n",
    "    return [a, b]"
   ]
  },
  {
   "cell_type": "code",
   "execution_count": 34,
   "id": "36bf901e-8fae-43e7-b449-d7883db13082",
   "metadata": {},
   "outputs": [
    {
     "ename": "TypeError",
     "evalue": "cannot unpack non-iterable int object",
     "output_type": "error",
     "traceback": [
      "\u001b[1;31m---------------------------------------------------------------------------\u001b[0m",
      "\u001b[1;31mTypeError\u001b[0m                                 Traceback (most recent call last)",
      "Input \u001b[1;32mIn [34]\u001b[0m, in \u001b[0;36m<cell line: 2>\u001b[1;34m()\u001b[0m\n\u001b[0;32m      1\u001b[0m lista_mea \u001b[38;5;241m=\u001b[39m [\u001b[38;5;241m1\u001b[39m, \u001b[38;5;241m2\u001b[39m, \u001b[38;5;241m3\u001b[39m, \u001b[38;5;241m4\u001b[39m, \u001b[38;5;241m5\u001b[39m]\n\u001b[1;32m----> 2\u001b[0m \u001b[43mo_lista\u001b[49m\u001b[43m(\u001b[49m\u001b[43mlista_mea\u001b[49m\u001b[43m)\u001b[49m\n",
      "Input \u001b[1;32mIn [33]\u001b[0m, in \u001b[0;36mo_lista\u001b[1;34m(elemente)\u001b[0m\n\u001b[0;32m      2\u001b[0m a \u001b[38;5;241m=\u001b[39m \u001b[38;5;241m0\u001b[39m\n\u001b[0;32m      3\u001b[0m b \u001b[38;5;241m=\u001b[39m \u001b[38;5;241m0\u001b[39m\n\u001b[1;32m----> 4\u001b[0m \u001b[38;5;28;01mfor\u001b[39;00m a, b \u001b[38;5;129;01min\u001b[39;00m elemente:\n\u001b[0;32m      5\u001b[0m     a \u001b[38;5;241m==\u001b[39m \u001b[38;5;28mmin\u001b[39m(elemente)\n\u001b[0;32m      6\u001b[0m     \u001b[38;5;28mmax\u001b[39m(elemente) \u001b[38;5;241m==\u001b[39m b\n",
      "\u001b[1;31mTypeError\u001b[0m: cannot unpack non-iterable int object"
     ]
    }
   ],
   "source": [
    "lista_mea = [1, 2, 3, 4, 5]\n",
    "o_lista(lista_mea)"
   ]
  },
  {
   "cell_type": "code",
   "execution_count": 141,
   "id": "55c6e0f9-94f8-41c9-be29-7134dc7a1181",
   "metadata": {},
   "outputs": [
    {
     "name": "stdin",
     "output_type": "stream",
     "text": [
      "Manufacturer: dsad\n",
      "Nett price: 2\n",
      "RAM memory: 2\n"
     ]
    },
    {
     "name": "stdout",
     "output_type": "stream",
     "text": [
      "Gross price of your dsad is 2.46\n"
     ]
    },
    {
     "name": "stdin",
     "output_type": "stream",
     "text": [
      "Add extra RAM: 2\n"
     ]
    },
    {
     "name": "stdout",
     "output_type": "stream",
     "text": [
      "Your dsad has None GB of RAM\n"
     ]
    }
   ],
   "source": [
    "class Notebook():\n",
    "    \n",
    "    vat = 23/100\n",
    "    \n",
    "    def __init__(self, manufacturer, net_price, ram_memory):\n",
    "        self.manufacturer = manufacturer\n",
    "        self.net_price = net_price\n",
    "        self.ram_memory = ram_memory\n",
    "       \n",
    "    def gross_price(self):\n",
    "        return float(self.net_price + self.net_price * Notebook.vat)\n",
    "\n",
    "    def increase_ram(self, expand):\n",
    "        self.ram_memory += expand\n",
    "        \n",
    "if __name__ == '__main__':\n",
    "    casa = Notebook(input('Manufacturer:'), int(input('Nett price:')), int(input('RAM memory:')))\n",
    "    print(f'Gross price of your {casa.manufacturer} is {casa.gross_price()}')\n",
    "    expand = int(input('Add extra RAM:'))\n",
    "    casa.increase_ram(expand)\n",
    "    print(f'Your {casa.manufacturer} has {casa.increase_ram(expand)} GB of RAM')\n",
    "    "
   ]
  },
  {
   "cell_type": "code",
   "execution_count": 95,
   "id": "e8da16e0-5d15-407d-a57b-4eec3eb42207",
   "metadata": {},
   "outputs": [
    {
     "data": {
      "text/plain": [
       "13.530000000000001"
      ]
     },
     "execution_count": 95,
     "metadata": {},
     "output_type": "execute_result"
    }
   ],
   "source": [
    "casa = Notebook('bobo', 11, 8)\n",
    "casa.gross_price()"
   ]
  },
  {
   "cell_type": "code",
   "execution_count": null,
   "id": "79cc35c2-dd16-4ec3-adfd-00f47b6ed229",
   "metadata": {},
   "outputs": [],
   "source": [
    "Notebook(input('Manufacturer:'), int(input('Nett price:')), int(input('RAM memory:')))"
   ]
  },
  {
   "cell_type": "code",
   "execution_count": 96,
   "id": "154b81bb-4566-4861-8525-6e85551436ec",
   "metadata": {},
   "outputs": [
    {
     "data": {
      "text/plain": [
       "8"
      ]
     },
     "execution_count": 96,
     "metadata": {},
     "output_type": "execute_result"
    }
   ],
   "source": [
    "casa.ram_memory"
   ]
  },
  {
   "cell_type": "code",
   "execution_count": 107,
   "id": "7673e6d1-db39-4e8e-abd7-0571af7c8c61",
   "metadata": {},
   "outputs": [
    {
     "ename": "TypeError",
     "evalue": "Notebook.increase_ram() missing 1 required positional argument: 'increase'",
     "output_type": "error",
     "traceback": [
      "\u001b[1;31m---------------------------------------------------------------------------\u001b[0m",
      "\u001b[1;31mTypeError\u001b[0m                                 Traceback (most recent call last)",
      "Input \u001b[1;32mIn [107]\u001b[0m, in \u001b[0;36m<cell line: 1>\u001b[1;34m()\u001b[0m\n\u001b[1;32m----> 1\u001b[0m \u001b[43mcasa\u001b[49m\u001b[38;5;241;43m.\u001b[39;49m\u001b[43mincrease_ram\u001b[49m(increase)\n",
      "\u001b[1;31mTypeError\u001b[0m: Notebook.increase_ram() missing 1 required positional argument: 'increase'"
     ]
    }
   ],
   "source": [
    "casa.increase_ram(increase)"
   ]
  },
  {
   "cell_type": "code",
   "execution_count": 112,
   "id": "157a4209-5ee7-404c-8213-ab7d78ddae7b",
   "metadata": {},
   "outputs": [
    {
     "name": "stdout",
     "output_type": "stream",
     "text": [
      "Your msi has 16 GB of RAM.\n"
     ]
    },
    {
     "name": "stdin",
     "output_type": "stream",
     "text": [
      "Add extra RAM:  2\n"
     ]
    },
    {
     "name": "stdout",
     "output_type": "stream",
     "text": [
      "Your msi has 18 GB of RAM.\n"
     ]
    }
   ],
   "source": [
    "class Notebook:\n",
    "    VAT = 23\n",
    "\n",
    "    def __init__(self, manufacturer, nett_price, ram):\n",
    "        self.manufacturer = manufacturer\n",
    "        self.nett_price = nett_price\n",
    "        self.ram = ram\n",
    "\n",
    "    @property\n",
    "    def gross_price(self):\n",
    "        return self.nett_price * (1 + self.VAT/100)\n",
    "\n",
    "    def expand_ram(self, extra_ram):\n",
    "        self.ram += extra_ram\n",
    "\n",
    "\n",
    "if __name__ == '__main__':\n",
    "\n",
    "    my_notebook = Notebook('msi', 3300, 16)\n",
    "    print(f'Your {my_notebook.manufacturer} has '\n",
    "          f'{my_notebook.ram} GB of RAM.')\n",
    "    extra_ram = int(input('Add extra RAM: '))\n",
    "    my_notebook.expand_ram(extra_ram)\n",
    "    print(f'Your {my_notebook.manufacturer} has '\n",
    "          f'{my_notebook.ram} GB of RAM.')\n"
   ]
  },
  {
   "cell_type": "code",
   "execution_count": 122,
   "id": "416a8f50-2657-43ba-8958-67ed3a16e0d1",
   "metadata": {},
   "outputs": [],
   "source": [
    "class Celsius:\n",
    "    def __init__(self, temperature=0):\n",
    "        self.set_temperature(temperature)\n",
    "\n",
    "    def to_fahrenheit(self):\n",
    "        return (self.get_temperature() * 1.8) + 32\n",
    "\n",
    "    # getter method\n",
    "    def get_temperature(self):\n",
    "        return self._temperature\n",
    "\n",
    "    # setter method\n",
    "    def set_temperature(self, value):\n",
    "        if value < -273.15:\n",
    "            raise ValueError(\"Temperature below -273.15 is not possible.\")\n",
    "        self._temperature = value"
   ]
  },
  {
   "cell_type": "code",
   "execution_count": 126,
   "id": "84b737b1-cd11-4f27-9048-658017672a8a",
   "metadata": {},
   "outputs": [
    {
     "name": "stdout",
     "output_type": "stream",
     "text": [
      "37\n"
     ]
    }
   ],
   "source": [
    "eu = Celsius(37)\n",
    "print(eu.get_temperature())"
   ]
  },
  {
   "cell_type": "code",
   "execution_count": 127,
   "id": "25c98d6e-f345-4ff0-9ec6-3ad386832b86",
   "metadata": {},
   "outputs": [
    {
     "name": "stdout",
     "output_type": "stream",
     "text": [
      "98.60000000000001\n"
     ]
    }
   ],
   "source": [
    "print(eu.to_fahrenheit())"
   ]
  },
  {
   "cell_type": "code",
   "execution_count": 128,
   "id": "04c47e50-6b34-4429-b5fc-a8b9af974a3e",
   "metadata": {},
   "outputs": [
    {
     "ename": "ValueError",
     "evalue": "Temperature below -273.15 is not possible.",
     "output_type": "error",
     "traceback": [
      "\u001b[1;31m---------------------------------------------------------------------------\u001b[0m",
      "\u001b[1;31mValueError\u001b[0m                                Traceback (most recent call last)",
      "Input \u001b[1;32mIn [128]\u001b[0m, in \u001b[0;36m<cell line: 1>\u001b[1;34m()\u001b[0m\n\u001b[1;32m----> 1\u001b[0m \u001b[43meu\u001b[49m\u001b[38;5;241;43m.\u001b[39;49m\u001b[43mset_temperature\u001b[49m\u001b[43m(\u001b[49m\u001b[38;5;241;43m-\u001b[39;49m\u001b[38;5;241;43m300\u001b[39;49m\u001b[43m)\u001b[49m\n",
      "Input \u001b[1;32mIn [122]\u001b[0m, in \u001b[0;36mCelsius.set_temperature\u001b[1;34m(self, value)\u001b[0m\n\u001b[0;32m     13\u001b[0m \u001b[38;5;28;01mdef\u001b[39;00m \u001b[38;5;21mset_temperature\u001b[39m(\u001b[38;5;28mself\u001b[39m, value):\n\u001b[0;32m     14\u001b[0m     \u001b[38;5;28;01mif\u001b[39;00m value \u001b[38;5;241m<\u001b[39m \u001b[38;5;241m-\u001b[39m\u001b[38;5;241m273.15\u001b[39m:\n\u001b[1;32m---> 15\u001b[0m         \u001b[38;5;28;01mraise\u001b[39;00m \u001b[38;5;167;01mValueError\u001b[39;00m(\u001b[38;5;124m\"\u001b[39m\u001b[38;5;124mTemperature below -273.15 is not possible.\u001b[39m\u001b[38;5;124m\"\u001b[39m)\n\u001b[0;32m     16\u001b[0m     \u001b[38;5;28mself\u001b[39m\u001b[38;5;241m.\u001b[39m_temperature \u001b[38;5;241m=\u001b[39m value\n",
      "\u001b[1;31mValueError\u001b[0m: Temperature below -273.15 is not possible."
     ]
    }
   ],
   "source": [
    "eu.set_temperature(-300)"
   ]
  },
  {
   "cell_type": "code",
   "execution_count": 129,
   "id": "b691b7f6-f558-48cf-8998-23a30996f0bd",
   "metadata": {},
   "outputs": [
    {
     "name": "stdout",
     "output_type": "stream",
     "text": [
      "98.60000000000001\n"
     ]
    }
   ],
   "source": [
    "print(eu.to_fahrenheit())"
   ]
  },
  {
   "cell_type": "code",
   "execution_count": null,
   "id": "8fe01bfd-cb50-4b35-b704-a005e966a4bd",
   "metadata": {},
   "outputs": [],
   "source": [
    "\"\"\"\n",
    "    Create a class named Rectangle.\n",
    "     The class should have two fields for the sides and an area (property) method to calculate \n",
    "     the area of the rectangle.\n",
    "\"\"\""
   ]
  },
  {
   "cell_type": "code",
   "execution_count": 144,
   "id": "95f52901-3b76-4745-ae7f-210e5a58e3c5",
   "metadata": {},
   "outputs": [],
   "source": [
    "class Rectangle():\n",
    "    def __init__(self, height, width):\n",
    "        self.height = height\n",
    "        self.width = width\n",
    "        \n",
    "    @property\n",
    "    def area(self):\n",
    "        return self.height * self.width"
   ]
  },
  {
   "cell_type": "code",
   "execution_count": 146,
   "id": "2b151d4c-691b-4cd5-bf90-873a4d5d850a",
   "metadata": {},
   "outputs": [
    {
     "data": {
      "text/plain": [
       "(10, 5)"
      ]
     },
     "execution_count": 146,
     "metadata": {},
     "output_type": "execute_result"
    }
   ],
   "source": [
    "drep = Rectangle(10, 5)\n",
    "drep.height, drep.width"
   ]
  },
  {
   "cell_type": "code",
   "execution_count": 149,
   "id": "30322252-18ff-40b0-8f48-00a5aad20124",
   "metadata": {},
   "outputs": [
    {
     "data": {
      "text/plain": [
       "50"
      ]
     },
     "execution_count": 149,
     "metadata": {},
     "output_type": "execute_result"
    }
   ],
   "source": [
    "drep.area"
   ]
  },
  {
   "cell_type": "code",
   "execution_count": null,
   "id": "8e91c280-8fdb-403f-89c7-42b742d1d1de",
   "metadata": {},
   "outputs": [],
   "source": [
    "\"\"\"\n",
    "    Ask the user for items to be added into two lists.\n",
    "     To do this, the user first adds to the first list until he enters a zero.\n",
    "     Then it adds to the second list until it types zero again.\n",
    "     Create sets out of these two lists.\n",
    "     Your task is to display the sorted symmetric difference of the sets created \n",
    "     from these two lists.\n",
    "\"\"\""
   ]
  },
  {
   "cell_type": "code",
   "execution_count": 187,
   "id": "c661063e-78e2-42c8-8082-9f3a0a6b66a1",
   "metadata": {},
   "outputs": [
    {
     "name": "stdout",
     "output_type": "stream",
     "text": [
      "Elements of the first list are:\n"
     ]
    },
    {
     "name": "stdin",
     "output_type": "stream",
     "text": [
      " 4\n",
      " 0\n"
     ]
    },
    {
     "name": "stdout",
     "output_type": "stream",
     "text": [
      "Elements of the second list are:\n"
     ]
    },
    {
     "name": "stdin",
     "output_type": "stream",
     "text": [
      " 5\n",
      " 0\n"
     ]
    },
    {
     "name": "stdout",
     "output_type": "stream",
     "text": [
      "[4, 5]\n"
     ]
    }
   ],
   "source": [
    "def a_list():\n",
    "    my_list = []\n",
    "    while True:\n",
    "        number = int(input())\n",
    "        if number == 0:\n",
    "            break\n",
    "        my_list.append(number)\n",
    "    return my_list\n",
    "\n",
    "if __name__ == '__main__':\n",
    "    print('Elements of the first list are:')\n",
    "    list_1 = a_list()\n",
    "    print('Elements of the second list are:')\n",
    "    list_2 = a_list()\n",
    "    list_3 = list(set(list_1)^set(list_2))\n",
    "    list_3.sort()\n",
    "    print(list_3)"
   ]
  },
  {
   "cell_type": "code",
   "execution_count": 170,
   "id": "5d8dd72d-9747-4e68-a913-cf2c98575d20",
   "metadata": {},
   "outputs": [
    {
     "data": {
      "text/plain": [
       "[1, 2, 3, 4, 5, 0, 2, 8, 6, 7]"
      ]
     },
     "execution_count": 170,
     "metadata": {},
     "output_type": "execute_result"
    }
   ],
   "source": [
    "lista = [1, 2, 3, 4, 5, 0, 2, 8, 6, 7]\n",
    "lista"
   ]
  },
  {
   "cell_type": "code",
   "execution_count": 171,
   "id": "4401a706-312f-484b-b877-1ea2cf4674ad",
   "metadata": {},
   "outputs": [
    {
     "ename": "TypeError",
     "evalue": "a_list() takes 0 positional arguments but 1 was given",
     "output_type": "error",
     "traceback": [
      "\u001b[1;31m---------------------------------------------------------------------------\u001b[0m",
      "\u001b[1;31mTypeError\u001b[0m                                 Traceback (most recent call last)",
      "Input \u001b[1;32mIn [171]\u001b[0m, in \u001b[0;36m<cell line: 1>\u001b[1;34m()\u001b[0m\n\u001b[1;32m----> 1\u001b[0m \u001b[38;5;28mprint\u001b[39m(\u001b[43ma_list\u001b[49m\u001b[43m(\u001b[49m\u001b[43mlista\u001b[49m\u001b[43m)\u001b[49m)\n",
      "\u001b[1;31mTypeError\u001b[0m: a_list() takes 0 positional arguments but 1 was given"
     ]
    }
   ],
   "source": [
    "print(a_list(lista))"
   ]
  },
  {
   "cell_type": "code",
   "execution_count": 165,
   "id": "6c11a5d9-af5d-40e5-a157-64dedaba0095",
   "metadata": {},
   "outputs": [
    {
     "ename": "NameError",
     "evalue": "name 'new_list' is not defined",
     "output_type": "error",
     "traceback": [
      "\u001b[1;31m---------------------------------------------------------------------------\u001b[0m",
      "\u001b[1;31mNameError\u001b[0m                                 Traceback (most recent call last)",
      "Input \u001b[1;32mIn [165]\u001b[0m, in \u001b[0;36m<cell line: 1>\u001b[1;34m()\u001b[0m\n\u001b[1;32m----> 1\u001b[0m \u001b[38;5;28mprint\u001b[39m(\u001b[43mnew_list\u001b[49m(lista))\n",
      "\u001b[1;31mNameError\u001b[0m: name 'new_list' is not defined"
     ]
    }
   ],
   "source": [
    "print(new_list(lista))"
   ]
  },
  {
   "cell_type": "code",
   "execution_count": null,
   "id": "e44adee1-9c3a-40f8-98fe-83c55be3a26a",
   "metadata": {},
   "outputs": [],
   "source": [
    "\"\"\"\n",
    "    Write a program that asks the user for a natural number (N) and prints all numbers\n",
    "    from 1 to N squared (for loop).\n",
    "\"\"\""
   ]
  },
  {
   "cell_type": "code",
   "execution_count": 207,
   "id": "32cc0b1e-f095-44c7-85a9-6ea1546582c1",
   "metadata": {},
   "outputs": [
    {
     "name": "stdin",
     "output_type": "stream",
     "text": [
      " 5\n"
     ]
    },
    {
     "name": "stdout",
     "output_type": "stream",
     "text": [
      "0\n",
      "1\n",
      "4\n",
      "9\n",
      "16\n"
     ]
    }
   ],
   "source": [
    "no = int(input())\n",
    "for n in range(no):\n",
    "    print(n**2)"
   ]
  },
  {
   "cell_type": "code",
   "execution_count": 206,
   "id": "b49c4ff3-86cc-4174-972e-53212ae44149",
   "metadata": {},
   "outputs": [
    {
     "name": "stdin",
     "output_type": "stream",
     "text": [
      "Specify the limit:  3\n"
     ]
    },
    {
     "name": "stdout",
     "output_type": "stream",
     "text": [
      "0\n",
      "1\n",
      "4\n"
     ]
    }
   ],
   "source": [
    "limit = int(input('Specify the limit: '))\n",
    "\n",
    "for i in range(limit):\n",
    "    print(i**2)"
   ]
  },
  {
   "cell_type": "code",
   "execution_count": null,
   "id": "c8ca3922-3d16-4b18-acc8-efb420254bcb",
   "metadata": {},
   "outputs": [],
   "source": [
    "\"\"\"\n",
    "    Write a program that takes a word from the user and then displays every second \n",
    "    character of the given word.\n",
    "     Secondly, the program should display the word from the remaining letters.\n",
    "\"\"\""
   ]
  },
  {
   "cell_type": "code",
   "execution_count": 223,
   "id": "87f6c4c6-d124-4e82-9d3a-7902e354d0f3",
   "metadata": {},
   "outputs": [
    {
     "name": "stdin",
     "output_type": "stream",
     "text": [
      " cuvant\n"
     ]
    },
    {
     "name": "stdout",
     "output_type": "stream",
     "text": [
      "uat cvn\n"
     ]
    }
   ],
   "source": [
    "if __name__=='__main__':\n",
    "    input_a_word = input()\n",
    "    print(input_a_word[1::2], input_a_word[::2])"
   ]
  },
  {
   "cell_type": "code",
   "execution_count": 209,
   "id": "23bfbb36-b8df-4d29-9bb3-ff7ffb140d75",
   "metadata": {},
   "outputs": [
    {
     "data": {
      "text/plain": [
       "str"
      ]
     },
     "execution_count": 209,
     "metadata": {},
     "output_type": "execute_result"
    }
   ],
   "source": [
    "type(a_word)"
   ]
  },
  {
   "cell_type": "code",
   "execution_count": 219,
   "id": "fb8d8cb3-d0eb-47d8-9344-1259c97b6749",
   "metadata": {},
   "outputs": [
    {
     "name": "stdin",
     "output_type": "stream",
     "text": [
      "Word?  abcdefgh\n"
     ]
    },
    {
     "name": "stdout",
     "output_type": "stream",
     "text": [
      "aceg\n",
      "bdfh\n"
     ]
    }
   ],
   "source": [
    "if __name__ == '__main__':\n",
    "    word = input('Word? ')\n",
    "    print(word[::2])\n",
    "    print(word[1::2])"
   ]
  },
  {
   "cell_type": "code",
   "execution_count": null,
   "id": "4264c63e-6402-40f0-9996-dcffd52cf31a",
   "metadata": {},
   "outputs": [],
   "source": []
  },
  {
   "cell_type": "code",
   "execution_count": null,
   "id": "a027e44a-a8a8-4b4f-bb76-e07c06a80c97",
   "metadata": {},
   "outputs": [],
   "source": []
  },
  {
   "cell_type": "code",
   "execution_count": null,
   "id": "2cf03e43-b424-40fb-9f05-0b7d11d18fab",
   "metadata": {},
   "outputs": [],
   "source": []
  }
 ],
 "metadata": {
  "kernelspec": {
   "display_name": "curs_python_env",
   "language": "python",
   "name": "curs_python_env"
  },
  "language_info": {
   "codemirror_mode": {
    "name": "ipython",
    "version": 3
   },
   "file_extension": ".py",
   "mimetype": "text/x-python",
   "name": "python",
   "nbconvert_exporter": "python",
   "pygments_lexer": "ipython3",
   "version": "3.10.5"
  }
 },
 "nbformat": 4,
 "nbformat_minor": 5
}
